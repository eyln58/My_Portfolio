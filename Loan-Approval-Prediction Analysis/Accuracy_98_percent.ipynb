{
 "cells": [
  {
   "attachments": {},
   "cell_type": "markdown",
   "id": "b6ab614c",
   "metadata": {
    "_cell_guid": "b1076dfc-b9ad-4769-8c92-a6c4dae69d19",
    "_uuid": "8f2839f25d086af736a60e9eeb907d3b93b6e0e5",
    "papermill": {
     "duration": 0.009595,
     "end_time": "2023-07-27T19:47:42.158712",
     "exception": false,
     "start_time": "2023-07-27T19:47:42.149117",
     "status": "completed"
    },
    "tags": []
   },
   "source": [
    "# Loan-Approval-Prediction Analysis\n"
   ]
  },
  {
   "attachments": {},
   "cell_type": "markdown",
   "id": "a58d8027",
   "metadata": {
    "papermill": {
     "duration": 0.008885,
     "end_time": "2023-07-27T19:47:42.176905",
     "exception": false,
     "start_time": "2023-07-27T19:47:42.168020",
     "status": "completed"
    },
    "tags": []
   },
   "source": [
    "# Importing necessaries Libraries"
   ]
  },
  {
   "cell_type": "code",
   "execution_count": 1,
   "id": "54ac7155",
   "metadata": {
    "execution": {
     "iopub.execute_input": "2023-07-27T19:47:42.198355Z",
     "iopub.status.busy": "2023-07-27T19:47:42.197974Z",
     "iopub.status.idle": "2023-07-27T19:47:44.397318Z",
     "shell.execute_reply": "2023-07-27T19:47:44.396041Z"
    },
    "papermill": {
     "duration": 2.213917,
     "end_time": "2023-07-27T19:47:44.399990",
     "exception": false,
     "start_time": "2023-07-27T19:47:42.186073",
     "status": "completed"
    },
    "tags": []
   },
   "outputs": [
    {
     "name": "stderr",
     "output_type": "stream",
     "text": [
      "/opt/conda/lib/python3.10/site-packages/scipy/__init__.py:146: UserWarning: A NumPy version >=1.16.5 and <1.23.0 is required for this version of SciPy (detected version 1.23.5\n",
      "  warnings.warn(f\"A NumPy version >={np_minversion} and <{np_maxversion}\"\n"
     ]
    }
   ],
   "source": [
    "import pandas as pd\n",
    "import numpy as np\n",
    "import matplotlib.pyplot as plt\n",
    "import seaborn as sns\n",
    "from sklearn.linear_model import LogisticRegression\n",
    "from sklearn.tree import DecisionTreeClassifier\n",
    "from sklearn.ensemble import RandomForestClassifier\n",
    "from sklearn.metrics import accuracy_score\n",
    "from sklearn.model_selection import train_test_split,RandomizedSearchCV\n",
    "from sklearn.preprocessing import LabelEncoder\n",
    "from sklearn.svm import SVC\n",
    "from sklearn.preprocessing import MinMaxScaler\n",
    "import joblib"
   ]
  },
  {
   "attachments": {},
   "cell_type": "markdown",
   "id": "f7971c0e",
   "metadata": {
    "papermill": {
     "duration": 0.009315,
     "end_time": "2023-07-27T19:47:44.418724",
     "exception": false,
     "start_time": "2023-07-27T19:47:44.409409",
     "status": "completed"
    },
    "tags": []
   },
   "source": [
    "# Importing dataset"
   ]
  },
  {
   "cell_type": "code",
   "execution_count": 2,
   "id": "ff682ae2",
   "metadata": {
    "execution": {
     "iopub.execute_input": "2023-07-27T19:47:44.439859Z",
     "iopub.status.busy": "2023-07-27T19:47:44.439084Z",
     "iopub.status.idle": "2023-07-27T19:47:44.491821Z",
     "shell.execute_reply": "2023-07-27T19:47:44.490919Z"
    },
    "papermill": {
     "duration": 0.065648,
     "end_time": "2023-07-27T19:47:44.493931",
     "exception": false,
     "start_time": "2023-07-27T19:47:44.428283",
     "status": "completed"
    },
    "tags": []
   },
   "outputs": [
    {
     "data": {
      "text/html": [
       "<div>\n",
       "<style scoped>\n",
       "    .dataframe tbody tr th:only-of-type {\n",
       "        vertical-align: middle;\n",
       "    }\n",
       "\n",
       "    .dataframe tbody tr th {\n",
       "        vertical-align: top;\n",
       "    }\n",
       "\n",
       "    .dataframe thead th {\n",
       "        text-align: right;\n",
       "    }\n",
       "</style>\n",
       "<table border=\"1\" class=\"dataframe\">\n",
       "  <thead>\n",
       "    <tr style=\"text-align: right;\">\n",
       "      <th></th>\n",
       "      <th>loan_id</th>\n",
       "      <th>no_of_dependents</th>\n",
       "      <th>education</th>\n",
       "      <th>self_employed</th>\n",
       "      <th>income_annum</th>\n",
       "      <th>loan_amount</th>\n",
       "      <th>loan_term</th>\n",
       "      <th>cibil_score</th>\n",
       "      <th>residential_assets_value</th>\n",
       "      <th>commercial_assets_value</th>\n",
       "      <th>luxury_assets_value</th>\n",
       "      <th>bank_asset_value</th>\n",
       "      <th>loan_status</th>\n",
       "    </tr>\n",
       "  </thead>\n",
       "  <tbody>\n",
       "    <tr>\n",
       "      <th>0</th>\n",
       "      <td>1</td>\n",
       "      <td>2</td>\n",
       "      <td>Graduate</td>\n",
       "      <td>No</td>\n",
       "      <td>9600000</td>\n",
       "      <td>29900000</td>\n",
       "      <td>12</td>\n",
       "      <td>778</td>\n",
       "      <td>2400000</td>\n",
       "      <td>17600000</td>\n",
       "      <td>22700000</td>\n",
       "      <td>8000000</td>\n",
       "      <td>Approved</td>\n",
       "    </tr>\n",
       "    <tr>\n",
       "      <th>1</th>\n",
       "      <td>2</td>\n",
       "      <td>0</td>\n",
       "      <td>Not Graduate</td>\n",
       "      <td>Yes</td>\n",
       "      <td>4100000</td>\n",
       "      <td>12200000</td>\n",
       "      <td>8</td>\n",
       "      <td>417</td>\n",
       "      <td>2700000</td>\n",
       "      <td>2200000</td>\n",
       "      <td>8800000</td>\n",
       "      <td>3300000</td>\n",
       "      <td>Rejected</td>\n",
       "    </tr>\n",
       "    <tr>\n",
       "      <th>2</th>\n",
       "      <td>3</td>\n",
       "      <td>3</td>\n",
       "      <td>Graduate</td>\n",
       "      <td>No</td>\n",
       "      <td>9100000</td>\n",
       "      <td>29700000</td>\n",
       "      <td>20</td>\n",
       "      <td>506</td>\n",
       "      <td>7100000</td>\n",
       "      <td>4500000</td>\n",
       "      <td>33300000</td>\n",
       "      <td>12800000</td>\n",
       "      <td>Rejected</td>\n",
       "    </tr>\n",
       "    <tr>\n",
       "      <th>3</th>\n",
       "      <td>4</td>\n",
       "      <td>3</td>\n",
       "      <td>Graduate</td>\n",
       "      <td>No</td>\n",
       "      <td>8200000</td>\n",
       "      <td>30700000</td>\n",
       "      <td>8</td>\n",
       "      <td>467</td>\n",
       "      <td>18200000</td>\n",
       "      <td>3300000</td>\n",
       "      <td>23300000</td>\n",
       "      <td>7900000</td>\n",
       "      <td>Rejected</td>\n",
       "    </tr>\n",
       "    <tr>\n",
       "      <th>4</th>\n",
       "      <td>5</td>\n",
       "      <td>5</td>\n",
       "      <td>Not Graduate</td>\n",
       "      <td>Yes</td>\n",
       "      <td>9800000</td>\n",
       "      <td>24200000</td>\n",
       "      <td>20</td>\n",
       "      <td>382</td>\n",
       "      <td>12400000</td>\n",
       "      <td>8200000</td>\n",
       "      <td>29400000</td>\n",
       "      <td>5000000</td>\n",
       "      <td>Rejected</td>\n",
       "    </tr>\n",
       "  </tbody>\n",
       "</table>\n",
       "</div>"
      ],
      "text/plain": [
       "   loan_id   no_of_dependents      education  self_employed   income_annum  \\\n",
       "0        1                  2       Graduate             No        9600000   \n",
       "1        2                  0   Not Graduate            Yes        4100000   \n",
       "2        3                  3       Graduate             No        9100000   \n",
       "3        4                  3       Graduate             No        8200000   \n",
       "4        5                  5   Not Graduate            Yes        9800000   \n",
       "\n",
       "    loan_amount   loan_term   cibil_score   residential_assets_value  \\\n",
       "0      29900000          12           778                    2400000   \n",
       "1      12200000           8           417                    2700000   \n",
       "2      29700000          20           506                    7100000   \n",
       "3      30700000           8           467                   18200000   \n",
       "4      24200000          20           382                   12400000   \n",
       "\n",
       "    commercial_assets_value   luxury_assets_value   bank_asset_value  \\\n",
       "0                  17600000              22700000            8000000   \n",
       "1                   2200000               8800000            3300000   \n",
       "2                   4500000              33300000           12800000   \n",
       "3                   3300000              23300000            7900000   \n",
       "4                   8200000              29400000            5000000   \n",
       "\n",
       "   loan_status  \n",
       "0     Approved  \n",
       "1     Rejected  \n",
       "2     Rejected  \n",
       "3     Rejected  \n",
       "4     Rejected  "
      ]
     },
     "execution_count": 2,
     "metadata": {},
     "output_type": "execute_result"
    }
   ],
   "source": [
    "data = pd.read_csv('loan_approval_dataset.csv')\n",
    "data.head()"
   ]
  },
  {
   "attachments": {},
   "cell_type": "markdown",
   "id": "308d42a7",
   "metadata": {
    "papermill": {
     "duration": 0.009572,
     "end_time": "2023-07-27T19:47:44.513335",
     "exception": false,
     "start_time": "2023-07-27T19:47:44.503763",
     "status": "completed"
    },
    "tags": []
   },
   "source": [
    "# Shape of dataset"
   ]
  },
  {
   "cell_type": "code",
   "execution_count": 3,
   "id": "38d16753",
   "metadata": {
    "execution": {
     "iopub.execute_input": "2023-07-27T19:47:44.534759Z",
     "iopub.status.busy": "2023-07-27T19:47:44.534334Z",
     "iopub.status.idle": "2023-07-27T19:47:44.539782Z",
     "shell.execute_reply": "2023-07-27T19:47:44.538610Z"
    },
    "papermill": {
     "duration": 0.018327,
     "end_time": "2023-07-27T19:47:44.541802",
     "exception": false,
     "start_time": "2023-07-27T19:47:44.523475",
     "status": "completed"
    },
    "tags": []
   },
   "outputs": [
    {
     "name": "stdout",
     "output_type": "stream",
     "text": [
      "There are 4269 rows and 13 columns in dataset\n"
     ]
    }
   ],
   "source": [
    "rows, cols = data.shape\n",
    "print(f'There are {rows} rows and {cols} columns in dataset')"
   ]
  },
  {
   "attachments": {},
   "cell_type": "markdown",
   "id": "3c817a0e",
   "metadata": {
    "papermill": {
     "duration": 0.009748,
     "end_time": "2023-07-27T19:47:44.561199",
     "exception": false,
     "start_time": "2023-07-27T19:47:44.551451",
     "status": "completed"
    },
    "tags": []
   },
   "source": [
    "# Remove Duplicate Data "
   ]
  },
  {
   "cell_type": "code",
   "execution_count": 4,
   "id": "cce476a1",
   "metadata": {
    "execution": {
     "iopub.execute_input": "2023-07-27T19:47:44.582773Z",
     "iopub.status.busy": "2023-07-27T19:47:44.582072Z",
     "iopub.status.idle": "2023-07-27T19:47:44.600003Z",
     "shell.execute_reply": "2023-07-27T19:47:44.598361Z"
    },
    "papermill": {
     "duration": 0.031188,
     "end_time": "2023-07-27T19:47:44.602307",
     "exception": false,
     "start_time": "2023-07-27T19:47:44.571119",
     "status": "completed"
    },
    "tags": []
   },
   "outputs": [
    {
     "name": "stdout",
     "output_type": "stream",
     "text": [
      "Duplicate data in datasets is  0\n"
     ]
    }
   ],
   "source": [
    "print(\"Duplicate data in datasets is \",data.duplicated().sum())"
   ]
  },
  {
   "cell_type": "code",
   "execution_count": 5,
   "id": "7f3500d0",
   "metadata": {
    "execution": {
     "iopub.execute_input": "2023-07-27T19:47:44.624544Z",
     "iopub.status.busy": "2023-07-27T19:47:44.623304Z",
     "iopub.status.idle": "2023-07-27T19:47:44.648446Z",
     "shell.execute_reply": "2023-07-27T19:47:44.647170Z"
    },
    "papermill": {
     "duration": 0.038467,
     "end_time": "2023-07-27T19:47:44.650713",
     "exception": false,
     "start_time": "2023-07-27T19:47:44.612246",
     "status": "completed"
    },
    "tags": []
   },
   "outputs": [
    {
     "name": "stdout",
     "output_type": "stream",
     "text": [
      "<class 'pandas.core.frame.DataFrame'>\n",
      "RangeIndex: 4269 entries, 0 to 4268\n",
      "Data columns (total 13 columns):\n",
      " #   Column                     Non-Null Count  Dtype \n",
      "---  ------                     --------------  ----- \n",
      " 0   loan_id                    4269 non-null   int64 \n",
      " 1    no_of_dependents          4269 non-null   int64 \n",
      " 2    education                 4269 non-null   object\n",
      " 3    self_employed             4269 non-null   object\n",
      " 4    income_annum              4269 non-null   int64 \n",
      " 5    loan_amount               4269 non-null   int64 \n",
      " 6    loan_term                 4269 non-null   int64 \n",
      " 7    cibil_score               4269 non-null   int64 \n",
      " 8    residential_assets_value  4269 non-null   int64 \n",
      " 9    commercial_assets_value   4269 non-null   int64 \n",
      " 10   luxury_assets_value       4269 non-null   int64 \n",
      " 11   bank_asset_value          4269 non-null   int64 \n",
      " 12   loan_status               4269 non-null   object\n",
      "dtypes: int64(10), object(3)\n",
      "memory usage: 433.7+ KB\n"
     ]
    }
   ],
   "source": [
    "data.info()"
   ]
  },
  {
   "cell_type": "code",
   "execution_count": 6,
   "id": "10ec146d",
   "metadata": {
    "execution": {
     "iopub.execute_input": "2023-07-27T19:47:44.672037Z",
     "iopub.status.busy": "2023-07-27T19:47:44.671656Z",
     "iopub.status.idle": "2023-07-27T19:47:44.718186Z",
     "shell.execute_reply": "2023-07-27T19:47:44.717151Z"
    },
    "papermill": {
     "duration": 0.059943,
     "end_time": "2023-07-27T19:47:44.720492",
     "exception": false,
     "start_time": "2023-07-27T19:47:44.660549",
     "status": "completed"
    },
    "tags": []
   },
   "outputs": [
    {
     "data": {
      "text/html": [
       "<div>\n",
       "<style scoped>\n",
       "    .dataframe tbody tr th:only-of-type {\n",
       "        vertical-align: middle;\n",
       "    }\n",
       "\n",
       "    .dataframe tbody tr th {\n",
       "        vertical-align: top;\n",
       "    }\n",
       "\n",
       "    .dataframe thead th {\n",
       "        text-align: right;\n",
       "    }\n",
       "</style>\n",
       "<table border=\"1\" class=\"dataframe\">\n",
       "  <thead>\n",
       "    <tr style=\"text-align: right;\">\n",
       "      <th></th>\n",
       "      <th>count</th>\n",
       "      <th>mean</th>\n",
       "      <th>std</th>\n",
       "      <th>min</th>\n",
       "      <th>25%</th>\n",
       "      <th>50%</th>\n",
       "      <th>75%</th>\n",
       "      <th>max</th>\n",
       "    </tr>\n",
       "  </thead>\n",
       "  <tbody>\n",
       "    <tr>\n",
       "      <th>loan_id</th>\n",
       "      <td>4269.0</td>\n",
       "      <td>2.135000e+03</td>\n",
       "      <td>1.232498e+03</td>\n",
       "      <td>1.0</td>\n",
       "      <td>1068.0</td>\n",
       "      <td>2135.0</td>\n",
       "      <td>3202.0</td>\n",
       "      <td>4269.0</td>\n",
       "    </tr>\n",
       "    <tr>\n",
       "      <th>no_of_dependents</th>\n",
       "      <td>4269.0</td>\n",
       "      <td>2.498712e+00</td>\n",
       "      <td>1.695910e+00</td>\n",
       "      <td>0.0</td>\n",
       "      <td>1.0</td>\n",
       "      <td>3.0</td>\n",
       "      <td>4.0</td>\n",
       "      <td>5.0</td>\n",
       "    </tr>\n",
       "    <tr>\n",
       "      <th>income_annum</th>\n",
       "      <td>4269.0</td>\n",
       "      <td>5.059124e+06</td>\n",
       "      <td>2.806840e+06</td>\n",
       "      <td>200000.0</td>\n",
       "      <td>2700000.0</td>\n",
       "      <td>5100000.0</td>\n",
       "      <td>7500000.0</td>\n",
       "      <td>9900000.0</td>\n",
       "    </tr>\n",
       "    <tr>\n",
       "      <th>loan_amount</th>\n",
       "      <td>4269.0</td>\n",
       "      <td>1.513345e+07</td>\n",
       "      <td>9.043363e+06</td>\n",
       "      <td>300000.0</td>\n",
       "      <td>7700000.0</td>\n",
       "      <td>14500000.0</td>\n",
       "      <td>21500000.0</td>\n",
       "      <td>39500000.0</td>\n",
       "    </tr>\n",
       "    <tr>\n",
       "      <th>loan_term</th>\n",
       "      <td>4269.0</td>\n",
       "      <td>1.090045e+01</td>\n",
       "      <td>5.709187e+00</td>\n",
       "      <td>2.0</td>\n",
       "      <td>6.0</td>\n",
       "      <td>10.0</td>\n",
       "      <td>16.0</td>\n",
       "      <td>20.0</td>\n",
       "    </tr>\n",
       "    <tr>\n",
       "      <th>cibil_score</th>\n",
       "      <td>4269.0</td>\n",
       "      <td>5.999361e+02</td>\n",
       "      <td>1.724304e+02</td>\n",
       "      <td>300.0</td>\n",
       "      <td>453.0</td>\n",
       "      <td>600.0</td>\n",
       "      <td>748.0</td>\n",
       "      <td>900.0</td>\n",
       "    </tr>\n",
       "    <tr>\n",
       "      <th>residential_assets_value</th>\n",
       "      <td>4269.0</td>\n",
       "      <td>7.472617e+06</td>\n",
       "      <td>6.503637e+06</td>\n",
       "      <td>-100000.0</td>\n",
       "      <td>2200000.0</td>\n",
       "      <td>5600000.0</td>\n",
       "      <td>11300000.0</td>\n",
       "      <td>29100000.0</td>\n",
       "    </tr>\n",
       "    <tr>\n",
       "      <th>commercial_assets_value</th>\n",
       "      <td>4269.0</td>\n",
       "      <td>4.973155e+06</td>\n",
       "      <td>4.388966e+06</td>\n",
       "      <td>0.0</td>\n",
       "      <td>1300000.0</td>\n",
       "      <td>3700000.0</td>\n",
       "      <td>7600000.0</td>\n",
       "      <td>19400000.0</td>\n",
       "    </tr>\n",
       "    <tr>\n",
       "      <th>luxury_assets_value</th>\n",
       "      <td>4269.0</td>\n",
       "      <td>1.512631e+07</td>\n",
       "      <td>9.103754e+06</td>\n",
       "      <td>300000.0</td>\n",
       "      <td>7500000.0</td>\n",
       "      <td>14600000.0</td>\n",
       "      <td>21700000.0</td>\n",
       "      <td>39200000.0</td>\n",
       "    </tr>\n",
       "    <tr>\n",
       "      <th>bank_asset_value</th>\n",
       "      <td>4269.0</td>\n",
       "      <td>4.976692e+06</td>\n",
       "      <td>3.250185e+06</td>\n",
       "      <td>0.0</td>\n",
       "      <td>2300000.0</td>\n",
       "      <td>4600000.0</td>\n",
       "      <td>7100000.0</td>\n",
       "      <td>14700000.0</td>\n",
       "    </tr>\n",
       "  </tbody>\n",
       "</table>\n",
       "</div>"
      ],
      "text/plain": [
       "                            count          mean           std       min  \\\n",
       "loan_id                    4269.0  2.135000e+03  1.232498e+03       1.0   \n",
       " no_of_dependents          4269.0  2.498712e+00  1.695910e+00       0.0   \n",
       " income_annum              4269.0  5.059124e+06  2.806840e+06  200000.0   \n",
       " loan_amount               4269.0  1.513345e+07  9.043363e+06  300000.0   \n",
       " loan_term                 4269.0  1.090045e+01  5.709187e+00       2.0   \n",
       " cibil_score               4269.0  5.999361e+02  1.724304e+02     300.0   \n",
       " residential_assets_value  4269.0  7.472617e+06  6.503637e+06 -100000.0   \n",
       " commercial_assets_value   4269.0  4.973155e+06  4.388966e+06       0.0   \n",
       " luxury_assets_value       4269.0  1.512631e+07  9.103754e+06  300000.0   \n",
       " bank_asset_value          4269.0  4.976692e+06  3.250185e+06       0.0   \n",
       "\n",
       "                                 25%         50%         75%         max  \n",
       "loan_id                       1068.0      2135.0      3202.0      4269.0  \n",
       " no_of_dependents                1.0         3.0         4.0         5.0  \n",
       " income_annum              2700000.0   5100000.0   7500000.0   9900000.0  \n",
       " loan_amount               7700000.0  14500000.0  21500000.0  39500000.0  \n",
       " loan_term                       6.0        10.0        16.0        20.0  \n",
       " cibil_score                   453.0       600.0       748.0       900.0  \n",
       " residential_assets_value  2200000.0   5600000.0  11300000.0  29100000.0  \n",
       " commercial_assets_value   1300000.0   3700000.0   7600000.0  19400000.0  \n",
       " luxury_assets_value       7500000.0  14600000.0  21700000.0  39200000.0  \n",
       " bank_asset_value          2300000.0   4600000.0   7100000.0  14700000.0  "
      ]
     },
     "execution_count": 6,
     "metadata": {},
     "output_type": "execute_result"
    }
   ],
   "source": [
    "data.describe().transpose()"
   ]
  },
  {
   "cell_type": "code",
   "execution_count": 7,
   "id": "c9a2a6ac",
   "metadata": {
    "execution": {
     "iopub.execute_input": "2023-07-27T19:47:44.742295Z",
     "iopub.status.busy": "2023-07-27T19:47:44.741905Z",
     "iopub.status.idle": "2023-07-27T19:47:44.762139Z",
     "shell.execute_reply": "2023-07-27T19:47:44.760916Z"
    },
    "papermill": {
     "duration": 0.033766,
     "end_time": "2023-07-27T19:47:44.764344",
     "exception": false,
     "start_time": "2023-07-27T19:47:44.730578",
     "status": "completed"
    },
    "tags": []
   },
   "outputs": [
    {
     "data": {
      "text/html": [
       "<div>\n",
       "<style scoped>\n",
       "    .dataframe tbody tr th:only-of-type {\n",
       "        vertical-align: middle;\n",
       "    }\n",
       "\n",
       "    .dataframe tbody tr th {\n",
       "        vertical-align: top;\n",
       "    }\n",
       "\n",
       "    .dataframe thead th {\n",
       "        text-align: right;\n",
       "    }\n",
       "</style>\n",
       "<table border=\"1\" class=\"dataframe\">\n",
       "  <thead>\n",
       "    <tr style=\"text-align: right;\">\n",
       "      <th></th>\n",
       "      <th>education</th>\n",
       "      <th>self_employed</th>\n",
       "      <th>loan_status</th>\n",
       "    </tr>\n",
       "  </thead>\n",
       "  <tbody>\n",
       "    <tr>\n",
       "      <th>count</th>\n",
       "      <td>4269</td>\n",
       "      <td>4269</td>\n",
       "      <td>4269</td>\n",
       "    </tr>\n",
       "    <tr>\n",
       "      <th>unique</th>\n",
       "      <td>2</td>\n",
       "      <td>2</td>\n",
       "      <td>2</td>\n",
       "    </tr>\n",
       "    <tr>\n",
       "      <th>top</th>\n",
       "      <td>Graduate</td>\n",
       "      <td>Yes</td>\n",
       "      <td>Approved</td>\n",
       "    </tr>\n",
       "    <tr>\n",
       "      <th>freq</th>\n",
       "      <td>2144</td>\n",
       "      <td>2150</td>\n",
       "      <td>2656</td>\n",
       "    </tr>\n",
       "  </tbody>\n",
       "</table>\n",
       "</div>"
      ],
      "text/plain": [
       "        education  self_employed  loan_status\n",
       "count        4269           4269         4269\n",
       "unique          2              2            2\n",
       "top      Graduate            Yes     Approved\n",
       "freq         2144           2150         2656"
      ]
     },
     "execution_count": 7,
     "metadata": {},
     "output_type": "execute_result"
    }
   ],
   "source": [
    "data.describe(include='object')"
   ]
  },
  {
   "attachments": {},
   "cell_type": "markdown",
   "id": "4e49ff1c",
   "metadata": {
    "papermill": {
     "duration": 0.009763,
     "end_time": "2023-07-27T19:47:44.784331",
     "exception": false,
     "start_time": "2023-07-27T19:47:44.774568",
     "status": "completed"
    },
    "tags": []
   },
   "source": [
    "# Remove Null values"
   ]
  },
  {
   "cell_type": "code",
   "execution_count": 8,
   "id": "ef6568d6",
   "metadata": {
    "execution": {
     "iopub.execute_input": "2023-07-27T19:47:44.806702Z",
     "iopub.status.busy": "2023-07-27T19:47:44.806058Z",
     "iopub.status.idle": "2023-07-27T19:47:45.529255Z",
     "shell.execute_reply": "2023-07-27T19:47:45.528448Z"
    },
    "papermill": {
     "duration": 0.736809,
     "end_time": "2023-07-27T19:47:45.531369",
     "exception": false,
     "start_time": "2023-07-27T19:47:44.794560",
     "status": "completed"
    },
    "tags": []
   },
   "outputs": [
    {
     "data": {
      "text/plain": [
       "<Axes: >"
      ]
     },
     "execution_count": 8,
     "metadata": {},
     "output_type": "execute_result"
    },
    {
     "data": {
      "image/png": "[encoded data removed]",
      "text/plain": [
       "<Figure size 640x480 with 2 Axes>"
      ]
     },
     "metadata": {},
     "output_type": "display_data"
    }
   ],
   "source": [
    "sns.heatmap(data.isna(),cmap='viridis')"
   ]
  },
  {
   "cell_type": "code",
   "execution_count": 9,
   "id": "4c262495",
   "metadata": {
    "execution": {
     "iopub.execute_input": "2023-07-27T19:47:45.556992Z",
     "iopub.status.busy": "2023-07-27T19:47:45.556380Z",
     "iopub.status.idle": "2023-07-27T19:47:45.566946Z",
     "shell.execute_reply": "2023-07-27T19:47:45.565811Z"
    },
    "papermill": {
     "duration": 0.02622,
     "end_time": "2023-07-27T19:47:45.569353",
     "exception": false,
     "start_time": "2023-07-27T19:47:45.543133",
     "status": "completed"
    },
    "tags": []
   },
   "outputs": [
    {
     "data": {
      "text/plain": [
       "loan_id                      0\n",
       " no_of_dependents            0\n",
       " education                   0\n",
       " self_employed               0\n",
       " income_annum                0\n",
       " loan_amount                 0\n",
       " loan_term                   0\n",
       " cibil_score                 0\n",
       " residential_assets_value    0\n",
       " commercial_assets_value     0\n",
       " luxury_assets_value         0\n",
       " bank_asset_value            0\n",
       " loan_status                 0\n",
       "dtype: int64"
      ]
     },
     "execution_count": 9,
     "metadata": {},
     "output_type": "execute_result"
    }
   ],
   "source": [
    "data.isna().sum()"
   ]
  },
  {
   "attachments": {},
   "cell_type": "markdown",
   "id": "5d27ff86",
   "metadata": {
    "papermill": {
     "duration": 0.011216,
     "end_time": "2023-07-27T19:47:45.592056",
     "exception": false,
     "start_time": "2023-07-27T19:47:45.580840",
     "status": "completed"
    },
    "tags": []
   },
   "source": [
    "## There is no null value in dataset"
   ]
  },
  {
   "attachments": {},
   "cell_type": "markdown",
   "id": "382ebd0d",
   "metadata": {
    "papermill": {
     "duration": 0.011622,
     "end_time": "2023-07-27T19:47:45.615088",
     "exception": false,
     "start_time": "2023-07-27T19:47:45.603466",
     "status": "completed"
    },
    "tags": []
   },
   "source": [
    "# Let check chances of getting loan approved if you are self-employeed."
   ]
  },
  {
   "cell_type": "code",
   "execution_count": 10,
   "id": "508e1c14",
   "metadata": {
    "execution": {
     "iopub.execute_input": "2023-07-27T19:47:45.639902Z",
     "iopub.status.busy": "2023-07-27T19:47:45.639474Z",
     "iopub.status.idle": "2023-07-27T19:47:45.649108Z",
     "shell.execute_reply": "2023-07-27T19:47:45.647706Z"
    },
    "papermill": {
     "duration": 0.025005,
     "end_time": "2023-07-27T19:47:45.651641",
     "exception": false,
     "start_time": "2023-07-27T19:47:45.626636",
     "status": "completed"
    },
    "tags": []
   },
   "outputs": [],
   "source": [
    "df = data[data[\" self_employed\"]==\" Yes\"]\n",
    "count1,_ = df.shape"
   ]
  },
  {
   "cell_type": "code",
   "execution_count": 11,
   "id": "0f6f8949",
   "metadata": {
    "execution": {
     "iopub.execute_input": "2023-07-27T19:47:45.677436Z",
     "iopub.status.busy": "2023-07-27T19:47:45.677061Z",
     "iopub.status.idle": "2023-07-27T19:47:45.683595Z",
     "shell.execute_reply": "2023-07-27T19:47:45.682555Z"
    },
    "papermill": {
     "duration": 0.02181,
     "end_time": "2023-07-27T19:47:45.685763",
     "exception": false,
     "start_time": "2023-07-27T19:47:45.663953",
     "status": "completed"
    },
    "tags": []
   },
   "outputs": [],
   "source": [
    "count2,_ = df[df[\" loan_status\"]==\" Approved\"].shape"
   ]
  },
  {
   "attachments": {},
   "cell_type": "markdown",
   "id": "3cef1a50",
   "metadata": {
    "papermill": {
     "duration": 0.011625,
     "end_time": "2023-07-27T19:47:45.708892",
     "exception": false,
     "start_time": "2023-07-27T19:47:45.697267",
     "status": "completed"
    },
    "tags": []
   },
   "source": [
    "## Ratio or Probability of getting approved your loan if you are self-employeed :"
   ]
  },
  {
   "cell_type": "code",
   "execution_count": 12,
   "id": "76800d4f",
   "metadata": {
    "execution": {
     "iopub.execute_input": "2023-07-27T19:47:45.733748Z",
     "iopub.status.busy": "2023-07-27T19:47:45.733328Z",
     "iopub.status.idle": "2023-07-27T19:47:45.739422Z",
     "shell.execute_reply": "2023-07-27T19:47:45.737878Z"
    },
    "papermill": {
     "duration": 0.021228,
     "end_time": "2023-07-27T19:47:45.741705",
     "exception": false,
     "start_time": "2023-07-27T19:47:45.720477",
     "status": "completed"
    },
    "tags": []
   },
   "outputs": [
    {
     "name": "stdout",
     "output_type": "stream",
     "text": [
      "Probability of getting approved your loan if you are self-employeed :0.6223255813953489\n"
     ]
    }
   ],
   "source": [
    "print(f\"Probability of getting approved your loan if you are self-employeed :{count2/count1}\")"
   ]
  },
  {
   "cell_type": "code",
   "execution_count": 13,
   "id": "8b388557",
   "metadata": {
    "execution": {
     "iopub.execute_input": "2023-07-27T19:47:45.766895Z",
     "iopub.status.busy": "2023-07-27T19:47:45.766489Z",
     "iopub.status.idle": "2023-07-27T19:47:45.781231Z",
     "shell.execute_reply": "2023-07-27T19:47:45.780054Z"
    },
    "papermill": {
     "duration": 0.030093,
     "end_time": "2023-07-27T19:47:45.783357",
     "exception": false,
     "start_time": "2023-07-27T19:47:45.753264",
     "status": "completed"
    },
    "tags": []
   },
   "outputs": [
    {
     "data": {
      "text/html": [
       "<div>\n",
       "<style scoped>\n",
       "    .dataframe tbody tr th:only-of-type {\n",
       "        vertical-align: middle;\n",
       "    }\n",
       "\n",
       "    .dataframe tbody tr th {\n",
       "        vertical-align: top;\n",
       "    }\n",
       "\n",
       "    .dataframe thead th {\n",
       "        text-align: right;\n",
       "    }\n",
       "</style>\n",
       "<table border=\"1\" class=\"dataframe\">\n",
       "  <thead>\n",
       "    <tr style=\"text-align: right;\">\n",
       "      <th></th>\n",
       "      <th>loan_id</th>\n",
       "      <th>no_of_dependents</th>\n",
       "      <th>education</th>\n",
       "      <th>self_employed</th>\n",
       "      <th>income_annum</th>\n",
       "      <th>loan_amount</th>\n",
       "      <th>loan_term</th>\n",
       "      <th>cibil_score</th>\n",
       "      <th>residential_assets_value</th>\n",
       "      <th>commercial_assets_value</th>\n",
       "      <th>luxury_assets_value</th>\n",
       "      <th>bank_asset_value</th>\n",
       "      <th>loan_status</th>\n",
       "    </tr>\n",
       "  </thead>\n",
       "  <tbody>\n",
       "    <tr>\n",
       "      <th>0</th>\n",
       "      <td>1</td>\n",
       "      <td>2</td>\n",
       "      <td>Graduate</td>\n",
       "      <td>No</td>\n",
       "      <td>9600000</td>\n",
       "      <td>29900000</td>\n",
       "      <td>12</td>\n",
       "      <td>778</td>\n",
       "      <td>2400000</td>\n",
       "      <td>17600000</td>\n",
       "      <td>22700000</td>\n",
       "      <td>8000000</td>\n",
       "      <td>Approved</td>\n",
       "    </tr>\n",
       "    <tr>\n",
       "      <th>1</th>\n",
       "      <td>2</td>\n",
       "      <td>0</td>\n",
       "      <td>Not Graduate</td>\n",
       "      <td>Yes</td>\n",
       "      <td>4100000</td>\n",
       "      <td>12200000</td>\n",
       "      <td>8</td>\n",
       "      <td>417</td>\n",
       "      <td>2700000</td>\n",
       "      <td>2200000</td>\n",
       "      <td>8800000</td>\n",
       "      <td>3300000</td>\n",
       "      <td>Rejected</td>\n",
       "    </tr>\n",
       "  </tbody>\n",
       "</table>\n",
       "</div>"
      ],
      "text/plain": [
       "   loan_id   no_of_dependents      education  self_employed   income_annum  \\\n",
       "0        1                  2       Graduate             No        9600000   \n",
       "1        2                  0   Not Graduate            Yes        4100000   \n",
       "\n",
       "    loan_amount   loan_term   cibil_score   residential_assets_value  \\\n",
       "0      29900000          12           778                    2400000   \n",
       "1      12200000           8           417                    2700000   \n",
       "\n",
       "    commercial_assets_value   luxury_assets_value   bank_asset_value  \\\n",
       "0                  17600000              22700000            8000000   \n",
       "1                   2200000               8800000            3300000   \n",
       "\n",
       "   loan_status  \n",
       "0     Approved  \n",
       "1     Rejected  "
      ]
     },
     "execution_count": 13,
     "metadata": {},
     "output_type": "execute_result"
    }
   ],
   "source": [
    "data.head(2)"
   ]
  },
  {
   "cell_type": "code",
   "execution_count": 14,
   "id": "82807494",
   "metadata": {
    "execution": {
     "iopub.execute_input": "2023-07-27T19:47:45.808311Z",
     "iopub.status.busy": "2023-07-27T19:47:45.807927Z",
     "iopub.status.idle": "2023-07-27T19:47:46.007501Z",
     "shell.execute_reply": "2023-07-27T19:47:46.006339Z"
    },
    "papermill": {
     "duration": 0.214781,
     "end_time": "2023-07-27T19:47:46.009776",
     "exception": false,
     "start_time": "2023-07-27T19:47:45.794995",
     "status": "completed"
    },
    "tags": []
   },
   "outputs": [
    {
     "data": {
      "text/plain": [
       "<Axes: xlabel=' loan_status', ylabel='count'>"
      ]
     },
     "execution_count": 14,
     "metadata": {},
     "output_type": "execute_result"
    },
    {
     "data": {
      "image/png": "[encoded data removed]",
      "text/plain": [
       "<Figure size 640x480 with 1 Axes>"
      ]
     },
     "metadata": {},
     "output_type": "display_data"
    }
   ],
   "source": [
    "sns.countplot(x =' loan_status',data=data)"
   ]
  },
  {
   "attachments": {},
   "cell_type": "markdown",
   "id": "d913ea2f",
   "metadata": {
    "papermill": {
     "duration": 0.012343,
     "end_time": "2023-07-27T19:47:46.034782",
     "exception": false,
     "start_time": "2023-07-27T19:47:46.022439",
     "status": "completed"
    },
    "tags": []
   },
   "source": [
    "# Let's check the average Cibil score to approve the loan."
   ]
  },
  {
   "cell_type": "code",
   "execution_count": 15,
   "id": "74700402",
   "metadata": {
    "execution": {
     "iopub.execute_input": "2023-07-27T19:47:46.062344Z",
     "iopub.status.busy": "2023-07-27T19:47:46.061191Z",
     "iopub.status.idle": "2023-07-27T19:47:46.069718Z",
     "shell.execute_reply": "2023-07-27T19:47:46.068536Z"
    },
    "papermill": {
     "duration": 0.024614,
     "end_time": "2023-07-27T19:47:46.072176",
     "exception": false,
     "start_time": "2023-07-27T19:47:46.047562",
     "status": "completed"
    },
    "tags": []
   },
   "outputs": [
    {
     "name": "stdout",
     "output_type": "stream",
     "text": [
      "Average cibil score :703.4619728915662\n"
     ]
    }
   ],
   "source": [
    "df = data[data[\" loan_status\"]==\" Approved\"]\n",
    "print(f\"Average cibil score :{df[' cibil_score'].mean()}\")"
   ]
  },
  {
   "attachments": {},
   "cell_type": "markdown",
   "id": "0ba4ef37",
   "metadata": {
    "papermill": {
     "duration": 0.011823,
     "end_time": "2023-07-27T19:47:46.096300",
     "exception": false,
     "start_time": "2023-07-27T19:47:46.084477",
     "status": "completed"
    },
    "tags": []
   },
   "source": [
    "## So the average cibil score should be around 703."
   ]
  },
  {
   "cell_type": "code",
   "execution_count": 16,
   "id": "d09d9236",
   "metadata": {
    "execution": {
     "iopub.execute_input": "2023-07-27T19:47:46.122477Z",
     "iopub.status.busy": "2023-07-27T19:47:46.122044Z",
     "iopub.status.idle": "2023-07-27T19:47:46.128374Z",
     "shell.execute_reply": "2023-07-27T19:47:46.127231Z"
    },
    "papermill": {
     "duration": 0.022368,
     "end_time": "2023-07-27T19:47:46.130746",
     "exception": false,
     "start_time": "2023-07-27T19:47:46.108378",
     "status": "completed"
    },
    "tags": []
   },
   "outputs": [
    {
     "name": "stdout",
     "output_type": "stream",
     "text": [
      "['loan_id', ' no_of_dependents', ' income_annum', ' loan_amount', ' loan_term', ' cibil_score', ' residential_assets_value', ' commercial_assets_value', ' luxury_assets_value', ' bank_asset_value']\n"
     ]
    }
   ],
   "source": [
    "numcol = []\n",
    "for col in data.columns:\n",
    "    if data[col].dtypes == \"int64\":\n",
    "        numcol.append(col)\n",
    "    \n",
    "print(numcol)"
   ]
  },
  {
   "attachments": {},
   "cell_type": "markdown",
   "id": "c2c942f7",
   "metadata": {
    "papermill": {
     "duration": 0.012236,
     "end_time": "2023-07-27T19:47:46.155307",
     "exception": false,
     "start_time": "2023-07-27T19:47:46.143071",
     "status": "completed"
    },
    "tags": []
   },
   "source": [
    "# Label Encoding"
   ]
  },
  {
   "cell_type": "code",
   "execution_count": 17,
   "id": "75728c3e",
   "metadata": {
    "execution": {
     "iopub.execute_input": "2023-07-27T19:47:46.181846Z",
     "iopub.status.busy": "2023-07-27T19:47:46.181432Z",
     "iopub.status.idle": "2023-07-27T19:47:46.200475Z",
     "shell.execute_reply": "2023-07-27T19:47:46.199344Z"
    },
    "papermill": {
     "duration": 0.035952,
     "end_time": "2023-07-27T19:47:46.203717",
     "exception": false,
     "start_time": "2023-07-27T19:47:46.167765",
     "status": "completed"
    },
    "tags": []
   },
   "outputs": [
    {
     "data": {
      "text/html": [
       "<div>\n",
       "<style scoped>\n",
       "    .dataframe tbody tr th:only-of-type {\n",
       "        vertical-align: middle;\n",
       "    }\n",
       "\n",
       "    .dataframe tbody tr th {\n",
       "        vertical-align: top;\n",
       "    }\n",
       "\n",
       "    .dataframe thead th {\n",
       "        text-align: right;\n",
       "    }\n",
       "</style>\n",
       "<table border=\"1\" class=\"dataframe\">\n",
       "  <thead>\n",
       "    <tr style=\"text-align: right;\">\n",
       "      <th></th>\n",
       "      <th>loan_id</th>\n",
       "      <th>no_of_dependents</th>\n",
       "      <th>education</th>\n",
       "      <th>self_employed</th>\n",
       "      <th>income_annum</th>\n",
       "      <th>loan_amount</th>\n",
       "      <th>loan_term</th>\n",
       "      <th>cibil_score</th>\n",
       "      <th>residential_assets_value</th>\n",
       "      <th>commercial_assets_value</th>\n",
       "      <th>luxury_assets_value</th>\n",
       "      <th>bank_asset_value</th>\n",
       "      <th>loan_status</th>\n",
       "    </tr>\n",
       "  </thead>\n",
       "  <tbody>\n",
       "    <tr>\n",
       "      <th>0</th>\n",
       "      <td>1</td>\n",
       "      <td>2</td>\n",
       "      <td>0</td>\n",
       "      <td>0</td>\n",
       "      <td>9600000</td>\n",
       "      <td>29900000</td>\n",
       "      <td>12</td>\n",
       "      <td>778</td>\n",
       "      <td>2400000</td>\n",
       "      <td>17600000</td>\n",
       "      <td>22700000</td>\n",
       "      <td>8000000</td>\n",
       "      <td>0</td>\n",
       "    </tr>\n",
       "    <tr>\n",
       "      <th>1</th>\n",
       "      <td>2</td>\n",
       "      <td>0</td>\n",
       "      <td>1</td>\n",
       "      <td>1</td>\n",
       "      <td>4100000</td>\n",
       "      <td>12200000</td>\n",
       "      <td>8</td>\n",
       "      <td>417</td>\n",
       "      <td>2700000</td>\n",
       "      <td>2200000</td>\n",
       "      <td>8800000</td>\n",
       "      <td>3300000</td>\n",
       "      <td>1</td>\n",
       "    </tr>\n",
       "    <tr>\n",
       "      <th>2</th>\n",
       "      <td>3</td>\n",
       "      <td>3</td>\n",
       "      <td>0</td>\n",
       "      <td>0</td>\n",
       "      <td>9100000</td>\n",
       "      <td>29700000</td>\n",
       "      <td>20</td>\n",
       "      <td>506</td>\n",
       "      <td>7100000</td>\n",
       "      <td>4500000</td>\n",
       "      <td>33300000</td>\n",
       "      <td>12800000</td>\n",
       "      <td>1</td>\n",
       "    </tr>\n",
       "    <tr>\n",
       "      <th>3</th>\n",
       "      <td>4</td>\n",
       "      <td>3</td>\n",
       "      <td>0</td>\n",
       "      <td>0</td>\n",
       "      <td>8200000</td>\n",
       "      <td>30700000</td>\n",
       "      <td>8</td>\n",
       "      <td>467</td>\n",
       "      <td>18200000</td>\n",
       "      <td>3300000</td>\n",
       "      <td>23300000</td>\n",
       "      <td>7900000</td>\n",
       "      <td>1</td>\n",
       "    </tr>\n",
       "    <tr>\n",
       "      <th>4</th>\n",
       "      <td>5</td>\n",
       "      <td>5</td>\n",
       "      <td>1</td>\n",
       "      <td>1</td>\n",
       "      <td>9800000</td>\n",
       "      <td>24200000</td>\n",
       "      <td>20</td>\n",
       "      <td>382</td>\n",
       "      <td>12400000</td>\n",
       "      <td>8200000</td>\n",
       "      <td>29400000</td>\n",
       "      <td>5000000</td>\n",
       "      <td>1</td>\n",
       "    </tr>\n",
       "  </tbody>\n",
       "</table>\n",
       "</div>"
      ],
      "text/plain": [
       "   loan_id   no_of_dependents   education   self_employed   income_annum  \\\n",
       "0        1                  2           0               0        9600000   \n",
       "1        2                  0           1               1        4100000   \n",
       "2        3                  3           0               0        9100000   \n",
       "3        4                  3           0               0        8200000   \n",
       "4        5                  5           1               1        9800000   \n",
       "\n",
       "    loan_amount   loan_term   cibil_score   residential_assets_value  \\\n",
       "0      29900000          12           778                    2400000   \n",
       "1      12200000           8           417                    2700000   \n",
       "2      29700000          20           506                    7100000   \n",
       "3      30700000           8           467                   18200000   \n",
       "4      24200000          20           382                   12400000   \n",
       "\n",
       "    commercial_assets_value   luxury_assets_value   bank_asset_value  \\\n",
       "0                  17600000              22700000            8000000   \n",
       "1                   2200000               8800000            3300000   \n",
       "2                   4500000              33300000           12800000   \n",
       "3                   3300000              23300000            7900000   \n",
       "4                   8200000              29400000            5000000   \n",
       "\n",
       "    loan_status  \n",
       "0             0  \n",
       "1             1  \n",
       "2             1  \n",
       "3             1  \n",
       "4             1  "
      ]
     },
     "execution_count": 17,
     "metadata": {},
     "output_type": "execute_result"
    }
   ],
   "source": [
    "le = LabelEncoder()\n",
    "data[\" education\"]=le.fit_transform(data[\" education\"])\n",
    "data[\" self_employed\"]=le.fit_transform(data[\" self_employed\"])\n",
    "data[\" loan_status\"]=le.fit_transform(data[\" loan_status\"])\n",
    "data.head()"
   ]
  },
  {
   "cell_type": "code",
   "execution_count": 18,
   "id": "a6e9a30c",
   "metadata": {
    "execution": {
     "iopub.execute_input": "2023-07-27T19:47:46.232292Z",
     "iopub.status.busy": "2023-07-27T19:47:46.231323Z",
     "iopub.status.idle": "2023-07-27T19:47:46.288274Z",
     "shell.execute_reply": "2023-07-27T19:47:46.287191Z"
    },
    "papermill": {
     "duration": 0.073883,
     "end_time": "2023-07-27T19:47:46.290801",
     "exception": false,
     "start_time": "2023-07-27T19:47:46.216918",
     "status": "completed"
    },
    "tags": []
   },
   "outputs": [
    {
     "data": {
      "text/html": [
       "<div>\n",
       "<style scoped>\n",
       "    .dataframe tbody tr th:only-of-type {\n",
       "        vertical-align: middle;\n",
       "    }\n",
       "\n",
       "    .dataframe tbody tr th {\n",
       "        vertical-align: top;\n",
       "    }\n",
       "\n",
       "    .dataframe thead th {\n",
       "        text-align: right;\n",
       "    }\n",
       "</style>\n",
       "<table border=\"1\" class=\"dataframe\">\n",
       "  <thead>\n",
       "    <tr style=\"text-align: right;\">\n",
       "      <th></th>\n",
       "      <th>loan_id</th>\n",
       "      <th>no_of_dependents</th>\n",
       "      <th>education</th>\n",
       "      <th>self_employed</th>\n",
       "      <th>income_annum</th>\n",
       "      <th>loan_amount</th>\n",
       "      <th>loan_term</th>\n",
       "      <th>cibil_score</th>\n",
       "      <th>residential_assets_value</th>\n",
       "      <th>commercial_assets_value</th>\n",
       "      <th>luxury_assets_value</th>\n",
       "      <th>bank_asset_value</th>\n",
       "      <th>loan_status</th>\n",
       "    </tr>\n",
       "  </thead>\n",
       "  <tbody>\n",
       "    <tr>\n",
       "      <th>0</th>\n",
       "      <td>0.000000</td>\n",
       "      <td>0.4</td>\n",
       "      <td>0</td>\n",
       "      <td>0</td>\n",
       "      <td>0.969072</td>\n",
       "      <td>0.755102</td>\n",
       "      <td>0.555556</td>\n",
       "      <td>0.796667</td>\n",
       "      <td>0.085616</td>\n",
       "      <td>0.907216</td>\n",
       "      <td>0.575835</td>\n",
       "      <td>0.544218</td>\n",
       "      <td>0</td>\n",
       "    </tr>\n",
       "    <tr>\n",
       "      <th>1</th>\n",
       "      <td>0.000234</td>\n",
       "      <td>0.0</td>\n",
       "      <td>1</td>\n",
       "      <td>1</td>\n",
       "      <td>0.402062</td>\n",
       "      <td>0.303571</td>\n",
       "      <td>0.333333</td>\n",
       "      <td>0.195000</td>\n",
       "      <td>0.095890</td>\n",
       "      <td>0.113402</td>\n",
       "      <td>0.218509</td>\n",
       "      <td>0.224490</td>\n",
       "      <td>1</td>\n",
       "    </tr>\n",
       "    <tr>\n",
       "      <th>2</th>\n",
       "      <td>0.000469</td>\n",
       "      <td>0.6</td>\n",
       "      <td>0</td>\n",
       "      <td>0</td>\n",
       "      <td>0.917526</td>\n",
       "      <td>0.750000</td>\n",
       "      <td>1.000000</td>\n",
       "      <td>0.343333</td>\n",
       "      <td>0.246575</td>\n",
       "      <td>0.231959</td>\n",
       "      <td>0.848329</td>\n",
       "      <td>0.870748</td>\n",
       "      <td>1</td>\n",
       "    </tr>\n",
       "    <tr>\n",
       "      <th>3</th>\n",
       "      <td>0.000703</td>\n",
       "      <td>0.6</td>\n",
       "      <td>0</td>\n",
       "      <td>0</td>\n",
       "      <td>0.824742</td>\n",
       "      <td>0.775510</td>\n",
       "      <td>0.333333</td>\n",
       "      <td>0.278333</td>\n",
       "      <td>0.626712</td>\n",
       "      <td>0.170103</td>\n",
       "      <td>0.591260</td>\n",
       "      <td>0.537415</td>\n",
       "      <td>1</td>\n",
       "    </tr>\n",
       "    <tr>\n",
       "      <th>4</th>\n",
       "      <td>0.000937</td>\n",
       "      <td>1.0</td>\n",
       "      <td>1</td>\n",
       "      <td>1</td>\n",
       "      <td>0.989691</td>\n",
       "      <td>0.609694</td>\n",
       "      <td>1.000000</td>\n",
       "      <td>0.136667</td>\n",
       "      <td>0.428082</td>\n",
       "      <td>0.422680</td>\n",
       "      <td>0.748072</td>\n",
       "      <td>0.340136</td>\n",
       "      <td>1</td>\n",
       "    </tr>\n",
       "  </tbody>\n",
       "</table>\n",
       "</div>"
      ],
      "text/plain": [
       "    loan_id   no_of_dependents   education   self_employed   income_annum  \\\n",
       "0  0.000000                0.4           0               0       0.969072   \n",
       "1  0.000234                0.0           1               1       0.402062   \n",
       "2  0.000469                0.6           0               0       0.917526   \n",
       "3  0.000703                0.6           0               0       0.824742   \n",
       "4  0.000937                1.0           1               1       0.989691   \n",
       "\n",
       "    loan_amount   loan_term   cibil_score   residential_assets_value  \\\n",
       "0      0.755102    0.555556      0.796667                   0.085616   \n",
       "1      0.303571    0.333333      0.195000                   0.095890   \n",
       "2      0.750000    1.000000      0.343333                   0.246575   \n",
       "3      0.775510    0.333333      0.278333                   0.626712   \n",
       "4      0.609694    1.000000      0.136667                   0.428082   \n",
       "\n",
       "    commercial_assets_value   luxury_assets_value   bank_asset_value  \\\n",
       "0                  0.907216              0.575835           0.544218   \n",
       "1                  0.113402              0.218509           0.224490   \n",
       "2                  0.231959              0.848329           0.870748   \n",
       "3                  0.170103              0.591260           0.537415   \n",
       "4                  0.422680              0.748072           0.340136   \n",
       "\n",
       "    loan_status  \n",
       "0             0  \n",
       "1             1  \n",
       "2             1  \n",
       "3             1  \n",
       "4             1  "
      ]
     },
     "execution_count": 18,
     "metadata": {},
     "output_type": "execute_result"
    }
   ],
   "source": [
    "scaler = MinMaxScaler()\n",
    "for col in numcol:\n",
    "    data[[col]] = scaler.fit_transform(data[[col]])\n",
    "    \n",
    "data.head()"
   ]
  },
  {
   "cell_type": "code",
   "execution_count": 19,
   "id": "d4d70950",
   "metadata": {
    "execution": {
     "iopub.execute_input": "2023-07-27T19:47:46.318493Z",
     "iopub.status.busy": "2023-07-27T19:47:46.318099Z",
     "iopub.status.idle": "2023-07-27T19:47:46.325711Z",
     "shell.execute_reply": "2023-07-27T19:47:46.324876Z"
    },
    "papermill": {
     "duration": 0.023722,
     "end_time": "2023-07-27T19:47:46.327653",
     "exception": false,
     "start_time": "2023-07-27T19:47:46.303931",
     "status": "completed"
    },
    "tags": []
   },
   "outputs": [],
   "source": [
    "df = data.drop('loan_id',axis=1)\n",
    "x = df.drop(\" loan_status\",axis = 1)\n",
    "y = df[' loan_status']"
   ]
  },
  {
   "cell_type": "code",
   "execution_count": 20,
   "id": "ecf3a21b",
   "metadata": {
    "execution": {
     "iopub.execute_input": "2023-07-27T19:47:46.355368Z",
     "iopub.status.busy": "2023-07-27T19:47:46.354710Z",
     "iopub.status.idle": "2023-07-27T19:47:46.362683Z",
     "shell.execute_reply": "2023-07-27T19:47:46.361323Z"
    },
    "papermill": {
     "duration": 0.024549,
     "end_time": "2023-07-27T19:47:46.364994",
     "exception": false,
     "start_time": "2023-07-27T19:47:46.340445",
     "status": "completed"
    },
    "tags": []
   },
   "outputs": [],
   "source": [
    "x_train,x_test,y_train,y_test = train_test_split(x,y,shuffle = True,random_state=42,test_size=0.15)"
   ]
  },
  {
   "cell_type": "code",
   "execution_count": 21,
   "id": "7425022b",
   "metadata": {
    "execution": {
     "iopub.execute_input": "2023-07-27T19:47:46.392026Z",
     "iopub.status.busy": "2023-07-27T19:47:46.391652Z",
     "iopub.status.idle": "2023-07-27T19:47:46.397213Z",
     "shell.execute_reply": "2023-07-27T19:47:46.395994Z"
    },
    "papermill": {
     "duration": 0.022093,
     "end_time": "2023-07-27T19:47:46.399769",
     "exception": false,
     "start_time": "2023-07-27T19:47:46.377676",
     "status": "completed"
    },
    "tags": []
   },
   "outputs": [],
   "source": [
    "models = {\n",
    "    'Logistic Regression':LogisticRegression(),\n",
    "    'RandomForestClassifier': RandomForestClassifier(),\n",
    "    'DecisionTreeClassifer':DecisionTreeClassifier(),\n",
    "    'SVM':SVC()\n",
    "}"
   ]
  },
  {
   "attachments": {},
   "cell_type": "markdown",
   "id": "ffac9024",
   "metadata": {
    "papermill": {
     "duration": 0.012778,
     "end_time": "2023-07-27T19:47:46.425685",
     "exception": false,
     "start_time": "2023-07-27T19:47:46.412907",
     "status": "completed"
    },
    "tags": []
   },
   "source": [
    "# Accuracy of Model"
   ]
  },
  {
   "cell_type": "code",
   "execution_count": 22,
   "id": "e89abf53",
   "metadata": {
    "execution": {
     "iopub.execute_input": "2023-07-27T19:47:46.454271Z",
     "iopub.status.busy": "2023-07-27T19:47:46.453644Z",
     "iopub.status.idle": "2023-07-27T19:47:47.553734Z",
     "shell.execute_reply": "2023-07-27T19:47:47.552536Z"
    },
    "papermill": {
     "duration": 1.117109,
     "end_time": "2023-07-27T19:47:47.556541",
     "exception": false,
     "start_time": "2023-07-27T19:47:46.439432",
     "status": "completed"
    },
    "tags": []
   },
   "outputs": [
    {
     "name": "stdout",
     "output_type": "stream",
     "text": [
      "Logistic Regression\n",
      "Training dataset accuracy: \n",
      "Accuracy :  0.9175854465270121\n",
      "\n",
      "Training dataset accuracy: \n",
      "Accuracy :  0.9235569422776911\n",
      "\n",
      "-------------------------------------------------\n",
      "RandomForestClassifier\n",
      "Training dataset accuracy: \n",
      "Accuracy :  1.0\n",
      "\n",
      "Training dataset accuracy: \n",
      "Accuracy :  0.982839313572543\n",
      "\n",
      "-------------------------------------------------\n",
      "DecisionTreeClassifer\n",
      "Training dataset accuracy: \n",
      "Accuracy :  1.0\n",
      "\n",
      "Training dataset accuracy: \n",
      "Accuracy :  0.9812792511700468\n",
      "\n",
      "-------------------------------------------------\n",
      "SVM\n",
      "Training dataset accuracy: \n",
      "Accuracy :  0.951212789415656\n",
      "\n",
      "Training dataset accuracy: \n",
      "Accuracy :  0.9266770670826833\n",
      "\n",
      "-------------------------------------------------\n"
     ]
    }
   ],
   "source": [
    "for i in range(len(models)):\n",
    "    model = list(models.values())[i]\n",
    "    model.fit(x_train,y_train)\n",
    "    \n",
    "    train_preds = model.predict(x_train)\n",
    "    test_preds = model.predict(x_test)\n",
    "    \n",
    "    model_name = list(models.keys())[i]\n",
    "    print(model_name)\n",
    "    print(\"Training dataset accuracy: \")\n",
    "    print(\"Accuracy : \",accuracy_score(y_train,train_preds))\n",
    "    print()\n",
    "    print(\"Training dataset accuracy: \")\n",
    "    print(\"Accuracy : \",accuracy_score(y_test,test_preds))\n",
    "    print()\n",
    "    print('-------------------------------------------------')\n"
   ]
  },
  {
   "attachments": {},
   "cell_type": "markdown",
   "id": "2c542477",
   "metadata": {
    "papermill": {
     "duration": 0.012736,
     "end_time": "2023-07-27T19:47:47.582491",
     "exception": false,
     "start_time": "2023-07-27T19:47:47.569755",
     "status": "completed"
    },
    "tags": []
   },
   "source": [
    "## As we can see RandomForest Gives us a better accuracy. So we go with Random Forest Model"
   ]
  },
  {
   "cell_type": "code",
   "execution_count": 23,
   "id": "77e75b6c",
   "metadata": {
    "execution": {
     "iopub.execute_input": "2023-07-27T19:47:47.610350Z",
     "iopub.status.busy": "2023-07-27T19:47:47.609932Z",
     "iopub.status.idle": "2023-07-27T19:47:47.619124Z",
     "shell.execute_reply": "2023-07-27T19:47:47.617937Z"
    },
    "papermill": {
     "duration": 0.026741,
     "end_time": "2023-07-27T19:47:47.622168",
     "exception": false,
     "start_time": "2023-07-27T19:47:47.595427",
     "status": "completed"
    },
    "tags": []
   },
   "outputs": [
    {
     "data": {
      "text/plain": [
       "{'max_depth': [5, 8, 15, None, 10],\n",
       " 'max_features': [5, 7, 'auto', 8],\n",
       " 'min_samples_split': [2, 8, 15, 20],\n",
       " 'n_estimators': [100, 200, 500, 1000]}"
      ]
     },
     "execution_count": 23,
     "metadata": {},
     "output_type": "execute_result"
    }
   ],
   "source": [
    "rf_param = {\n",
    "    \"max_depth\":[5,8,15,None,10],\n",
    "    \"max_features\":[5,7,'auto',8],\n",
    "    \"min_samples_split\":[2,8,15,20],\n",
    "    \"n_estimators\":[100,200,500,1000]\n",
    "}\n",
    "rf_param"
   ]
  },
  {
   "cell_type": "code",
   "execution_count": 24,
   "id": "37cfc9b1",
   "metadata": {
    "execution": {
     "iopub.execute_input": "2023-07-27T19:47:47.650819Z",
     "iopub.status.busy": "2023-07-27T19:47:47.650388Z",
     "iopub.status.idle": "2023-07-27T19:47:47.655247Z",
     "shell.execute_reply": "2023-07-27T19:47:47.653921Z"
    },
    "papermill": {
     "duration": 0.022095,
     "end_time": "2023-07-27T19:47:47.657636",
     "exception": false,
     "start_time": "2023-07-27T19:47:47.635541",
     "status": "completed"
    },
    "tags": []
   },
   "outputs": [],
   "source": [
    "randomcv_models = [\n",
    "    (\"RandomForestClassifier\",RandomForestClassifier(),rf_param)\n",
    "]"
   ]
  },
  {
   "cell_type": "code",
   "execution_count": 25,
   "id": "f66f7494",
   "metadata": {
    "execution": {
     "iopub.execute_input": "2023-07-27T19:47:47.686303Z",
     "iopub.status.busy": "2023-07-27T19:47:47.685884Z",
     "iopub.status.idle": "2023-07-27T19:51:12.963461Z",
     "shell.execute_reply": "2023-07-27T19:51:12.961202Z"
    },
    "papermill": {
     "duration": 205.29602,
     "end_time": "2023-07-27T19:51:12.966882",
     "exception": false,
     "start_time": "2023-07-27T19:47:47.670862",
     "status": "completed"
    },
    "tags": []
   },
   "outputs": [
    {
     "name": "stdout",
     "output_type": "stream",
     "text": [
      "Fitting 3 folds for each of 100 candidates, totalling 300 fits\n"
     ]
    },
    {
     "name": "stderr",
     "output_type": "stream",
     "text": [
      "/opt/conda/lib/python3.10/site-packages/scipy/__init__.py:146: UserWarning: A NumPy version >=1.16.5 and <1.23.0 is required for this version of SciPy (detected version 1.23.5\n",
      "  warnings.warn(f\"A NumPy version >={np_minversion} and <{np_maxversion}\"\n",
      "/opt/conda/lib/python3.10/site-packages/scipy/__init__.py:146: UserWarning: A NumPy version >=1.16.5 and <1.23.0 is required for this version of SciPy (detected version 1.23.5\n",
      "  warnings.warn(f\"A NumPy version >={np_minversion} and <{np_maxversion}\"\n",
      "/opt/conda/lib/python3.10/site-packages/scipy/__init__.py:146: UserWarning: A NumPy version >=1.16.5 and <1.23.0 is required for this version of SciPy (detected version 1.23.5\n",
      "  warnings.warn(f\"A NumPy version >={np_minversion} and <{np_maxversion}\"\n",
      "/opt/conda/lib/python3.10/site-packages/scipy/__init__.py:146: UserWarning: A NumPy version >=1.16.5 and <1.23.0 is required for this version of SciPy (detected version 1.23.5\n",
      "  warnings.warn(f\"A NumPy version >={np_minversion} and <{np_maxversion}\"\n",
      "/opt/conda/lib/python3.10/site-packages/sklearn/ensemble/_forest.py:424: FutureWarning: `max_features='auto'` has been deprecated in 1.1 and will be removed in 1.3. To keep the past behaviour, explicitly set `max_features='sqrt'` or remove this parameter as it is also the default value for RandomForestClassifiers and ExtraTreesClassifiers.\n",
      "  warn(\n",
      "/opt/conda/lib/python3.10/site-packages/sklearn/ensemble/_forest.py:424: FutureWarning: `max_features='auto'` has been deprecated in 1.1 and will be removed in 1.3. To keep the past behaviour, explicitly set `max_features='sqrt'` or remove this parameter as it is also the default value for RandomForestClassifiers and ExtraTreesClassifiers.\n",
      "  warn(\n",
      "/opt/conda/lib/python3.10/site-packages/sklearn/ensemble/_forest.py:424: FutureWarning: `max_features='auto'` has been deprecated in 1.1 and will be removed in 1.3. To keep the past behaviour, explicitly set `max_features='sqrt'` or remove this parameter as it is also the default value for RandomForestClassifiers and ExtraTreesClassifiers.\n",
      "  warn(\n",
      "/opt/conda/lib/python3.10/site-packages/sklearn/ensemble/_forest.py:424: FutureWarning: `max_features='auto'` has been deprecated in 1.1 and will be removed in 1.3. To keep the past behaviour, explicitly set `max_features='sqrt'` or remove this parameter as it is also the default value for RandomForestClassifiers and ExtraTreesClassifiers.\n",
      "  warn(\n",
      "/opt/conda/lib/python3.10/site-packages/sklearn/ensemble/_forest.py:424: FutureWarning: `max_features='auto'` has been deprecated in 1.1 and will be removed in 1.3. To keep the past behaviour, explicitly set `max_features='sqrt'` or remove this parameter as it is also the default value for RandomForestClassifiers and ExtraTreesClassifiers.\n",
      "  warn(\n",
      "/opt/conda/lib/python3.10/site-packages/sklearn/ensemble/_forest.py:424: FutureWarning: `max_features='auto'` has been deprecated in 1.1 and will be removed in 1.3. To keep the past behaviour, explicitly set `max_features='sqrt'` or remove this parameter as it is also the default value for RandomForestClassifiers and ExtraTreesClassifiers.\n",
      "  warn(\n",
      "/opt/conda/lib/python3.10/site-packages/sklearn/ensemble/_forest.py:424: FutureWarning: `max_features='auto'` has been deprecated in 1.1 and will be removed in 1.3. To keep the past behaviour, explicitly set `max_features='sqrt'` or remove this parameter as it is also the default value for RandomForestClassifiers and ExtraTreesClassifiers.\n",
      "  warn(\n",
      "/opt/conda/lib/python3.10/site-packages/sklearn/ensemble/_forest.py:424: FutureWarning: `max_features='auto'` has been deprecated in 1.1 and will be removed in 1.3. To keep the past behaviour, explicitly set `max_features='sqrt'` or remove this parameter as it is also the default value for RandomForestClassifiers and ExtraTreesClassifiers.\n",
      "  warn(\n",
      "/opt/conda/lib/python3.10/site-packages/sklearn/ensemble/_forest.py:424: FutureWarning: `max_features='auto'` has been deprecated in 1.1 and will be removed in 1.3. To keep the past behaviour, explicitly set `max_features='sqrt'` or remove this parameter as it is also the default value for RandomForestClassifiers and ExtraTreesClassifiers.\n",
      "  warn(\n",
      "/opt/conda/lib/python3.10/site-packages/sklearn/ensemble/_forest.py:424: FutureWarning: `max_features='auto'` has been deprecated in 1.1 and will be removed in 1.3. To keep the past behaviour, explicitly set `max_features='sqrt'` or remove this parameter as it is also the default value for RandomForestClassifiers and ExtraTreesClassifiers.\n",
      "  warn(\n",
      "/opt/conda/lib/python3.10/site-packages/sklearn/ensemble/_forest.py:424: FutureWarning: `max_features='auto'` has been deprecated in 1.1 and will be removed in 1.3. To keep the past behaviour, explicitly set `max_features='sqrt'` or remove this parameter as it is also the default value for RandomForestClassifiers and ExtraTreesClassifiers.\n",
      "  warn(\n",
      "/opt/conda/lib/python3.10/site-packages/sklearn/ensemble/_forest.py:424: FutureWarning: `max_features='auto'` has been deprecated in 1.1 and will be removed in 1.3. To keep the past behaviour, explicitly set `max_features='sqrt'` or remove this parameter as it is also the default value for RandomForestClassifiers and ExtraTreesClassifiers.\n",
      "  warn(\n",
      "/opt/conda/lib/python3.10/site-packages/sklearn/ensemble/_forest.py:424: FutureWarning: `max_features='auto'` has been deprecated in 1.1 and will be removed in 1.3. To keep the past behaviour, explicitly set `max_features='sqrt'` or remove this parameter as it is also the default value for RandomForestClassifiers and ExtraTreesClassifiers.\n",
      "  warn(\n",
      "/opt/conda/lib/python3.10/site-packages/sklearn/ensemble/_forest.py:424: FutureWarning: `max_features='auto'` has been deprecated in 1.1 and will be removed in 1.3. To keep the past behaviour, explicitly set `max_features='sqrt'` or remove this parameter as it is also the default value for RandomForestClassifiers and ExtraTreesClassifiers.\n",
      "  warn(\n",
      "/opt/conda/lib/python3.10/site-packages/sklearn/ensemble/_forest.py:424: FutureWarning: `max_features='auto'` has been deprecated in 1.1 and will be removed in 1.3. To keep the past behaviour, explicitly set `max_features='sqrt'` or remove this parameter as it is also the default value for RandomForestClassifiers and ExtraTreesClassifiers.\n",
      "  warn(\n",
      "/opt/conda/lib/python3.10/site-packages/sklearn/ensemble/_forest.py:424: FutureWarning: `max_features='auto'` has been deprecated in 1.1 and will be removed in 1.3. To keep the past behaviour, explicitly set `max_features='sqrt'` or remove this parameter as it is also the default value for RandomForestClassifiers and ExtraTreesClassifiers.\n",
      "  warn(\n",
      "/opt/conda/lib/python3.10/site-packages/sklearn/ensemble/_forest.py:424: FutureWarning: `max_features='auto'` has been deprecated in 1.1 and will be removed in 1.3. To keep the past behaviour, explicitly set `max_features='sqrt'` or remove this parameter as it is also the default value for RandomForestClassifiers and ExtraTreesClassifiers.\n",
      "  warn(\n",
      "/opt/conda/lib/python3.10/site-packages/sklearn/ensemble/_forest.py:424: FutureWarning: `max_features='auto'` has been deprecated in 1.1 and will be removed in 1.3. To keep the past behaviour, explicitly set `max_features='sqrt'` or remove this parameter as it is also the default value for RandomForestClassifiers and ExtraTreesClassifiers.\n",
      "  warn(\n",
      "/opt/conda/lib/python3.10/site-packages/sklearn/ensemble/_forest.py:424: FutureWarning: `max_features='auto'` has been deprecated in 1.1 and will be removed in 1.3. To keep the past behaviour, explicitly set `max_features='sqrt'` or remove this parameter as it is also the default value for RandomForestClassifiers and ExtraTreesClassifiers.\n",
      "  warn(\n",
      "/opt/conda/lib/python3.10/site-packages/sklearn/ensemble/_forest.py:424: FutureWarning: `max_features='auto'` has been deprecated in 1.1 and will be removed in 1.3. To keep the past behaviour, explicitly set `max_features='sqrt'` or remove this parameter as it is also the default value for RandomForestClassifiers and ExtraTreesClassifiers.\n",
      "  warn(\n",
      "/opt/conda/lib/python3.10/site-packages/sklearn/ensemble/_forest.py:424: FutureWarning: `max_features='auto'` has been deprecated in 1.1 and will be removed in 1.3. To keep the past behaviour, explicitly set `max_features='sqrt'` or remove this parameter as it is also the default value for RandomForestClassifiers and ExtraTreesClassifiers.\n",
      "  warn(\n",
      "/opt/conda/lib/python3.10/site-packages/sklearn/ensemble/_forest.py:424: FutureWarning: `max_features='auto'` has been deprecated in 1.1 and will be removed in 1.3. To keep the past behaviour, explicitly set `max_features='sqrt'` or remove this parameter as it is also the default value for RandomForestClassifiers and ExtraTreesClassifiers.\n",
      "  warn(\n",
      "/opt/conda/lib/python3.10/site-packages/sklearn/ensemble/_forest.py:424: FutureWarning: `max_features='auto'` has been deprecated in 1.1 and will be removed in 1.3. To keep the past behaviour, explicitly set `max_features='sqrt'` or remove this parameter as it is also the default value for RandomForestClassifiers and ExtraTreesClassifiers.\n",
      "  warn(\n",
      "/opt/conda/lib/python3.10/site-packages/sklearn/ensemble/_forest.py:424: FutureWarning: `max_features='auto'` has been deprecated in 1.1 and will be removed in 1.3. To keep the past behaviour, explicitly set `max_features='sqrt'` or remove this parameter as it is also the default value for RandomForestClassifiers and ExtraTreesClassifiers.\n",
      "  warn(\n",
      "/opt/conda/lib/python3.10/site-packages/sklearn/ensemble/_forest.py:424: FutureWarning: `max_features='auto'` has been deprecated in 1.1 and will be removed in 1.3. To keep the past behaviour, explicitly set `max_features='sqrt'` or remove this parameter as it is also the default value for RandomForestClassifiers and ExtraTreesClassifiers.\n",
      "  warn(\n",
      "/opt/conda/lib/python3.10/site-packages/sklearn/ensemble/_forest.py:424: FutureWarning: `max_features='auto'` has been deprecated in 1.1 and will be removed in 1.3. To keep the past behaviour, explicitly set `max_features='sqrt'` or remove this parameter as it is also the default value for RandomForestClassifiers and ExtraTreesClassifiers.\n",
      "  warn(\n",
      "/opt/conda/lib/python3.10/site-packages/sklearn/ensemble/_forest.py:424: FutureWarning: `max_features='auto'` has been deprecated in 1.1 and will be removed in 1.3. To keep the past behaviour, explicitly set `max_features='sqrt'` or remove this parameter as it is also the default value for RandomForestClassifiers and ExtraTreesClassifiers.\n",
      "  warn(\n",
      "/opt/conda/lib/python3.10/site-packages/sklearn/ensemble/_forest.py:424: FutureWarning: `max_features='auto'` has been deprecated in 1.1 and will be removed in 1.3. To keep the past behaviour, explicitly set `max_features='sqrt'` or remove this parameter as it is also the default value for RandomForestClassifiers and ExtraTreesClassifiers.\n",
      "  warn(\n",
      "/opt/conda/lib/python3.10/site-packages/sklearn/ensemble/_forest.py:424: FutureWarning: `max_features='auto'` has been deprecated in 1.1 and will be removed in 1.3. To keep the past behaviour, explicitly set `max_features='sqrt'` or remove this parameter as it is also the default value for RandomForestClassifiers and ExtraTreesClassifiers.\n",
      "  warn(\n",
      "/opt/conda/lib/python3.10/site-packages/sklearn/ensemble/_forest.py:424: FutureWarning: `max_features='auto'` has been deprecated in 1.1 and will be removed in 1.3. To keep the past behaviour, explicitly set `max_features='sqrt'` or remove this parameter as it is also the default value for RandomForestClassifiers and ExtraTreesClassifiers.\n",
      "  warn(\n",
      "/opt/conda/lib/python3.10/site-packages/sklearn/ensemble/_forest.py:424: FutureWarning: `max_features='auto'` has been deprecated in 1.1 and will be removed in 1.3. To keep the past behaviour, explicitly set `max_features='sqrt'` or remove this parameter as it is also the default value for RandomForestClassifiers and ExtraTreesClassifiers.\n",
      "  warn(\n",
      "/opt/conda/lib/python3.10/site-packages/sklearn/ensemble/_forest.py:424: FutureWarning: `max_features='auto'` has been deprecated in 1.1 and will be removed in 1.3. To keep the past behaviour, explicitly set `max_features='sqrt'` or remove this parameter as it is also the default value for RandomForestClassifiers and ExtraTreesClassifiers.\n",
      "  warn(\n",
      "/opt/conda/lib/python3.10/site-packages/sklearn/ensemble/_forest.py:424: FutureWarning: `max_features='auto'` has been deprecated in 1.1 and will be removed in 1.3. To keep the past behaviour, explicitly set `max_features='sqrt'` or remove this parameter as it is also the default value for RandomForestClassifiers and ExtraTreesClassifiers.\n",
      "  warn(\n",
      "/opt/conda/lib/python3.10/site-packages/sklearn/ensemble/_forest.py:424: FutureWarning: `max_features='auto'` has been deprecated in 1.1 and will be removed in 1.3. To keep the past behaviour, explicitly set `max_features='sqrt'` or remove this parameter as it is also the default value for RandomForestClassifiers and ExtraTreesClassifiers.\n",
      "  warn(\n",
      "/opt/conda/lib/python3.10/site-packages/sklearn/ensemble/_forest.py:424: FutureWarning: `max_features='auto'` has been deprecated in 1.1 and will be removed in 1.3. To keep the past behaviour, explicitly set `max_features='sqrt'` or remove this parameter as it is also the default value for RandomForestClassifiers and ExtraTreesClassifiers.\n",
      "  warn(\n",
      "/opt/conda/lib/python3.10/site-packages/sklearn/ensemble/_forest.py:424: FutureWarning: `max_features='auto'` has been deprecated in 1.1 and will be removed in 1.3. To keep the past behaviour, explicitly set `max_features='sqrt'` or remove this parameter as it is also the default value for RandomForestClassifiers and ExtraTreesClassifiers.\n",
      "  warn(\n",
      "/opt/conda/lib/python3.10/site-packages/sklearn/ensemble/_forest.py:424: FutureWarning: `max_features='auto'` has been deprecated in 1.1 and will be removed in 1.3. To keep the past behaviour, explicitly set `max_features='sqrt'` or remove this parameter as it is also the default value for RandomForestClassifiers and ExtraTreesClassifiers.\n",
      "  warn(\n",
      "/opt/conda/lib/python3.10/site-packages/sklearn/ensemble/_forest.py:424: FutureWarning: `max_features='auto'` has been deprecated in 1.1 and will be removed in 1.3. To keep the past behaviour, explicitly set `max_features='sqrt'` or remove this parameter as it is also the default value for RandomForestClassifiers and ExtraTreesClassifiers.\n",
      "  warn(\n",
      "/opt/conda/lib/python3.10/site-packages/sklearn/ensemble/_forest.py:424: FutureWarning: `max_features='auto'` has been deprecated in 1.1 and will be removed in 1.3. To keep the past behaviour, explicitly set `max_features='sqrt'` or remove this parameter as it is also the default value for RandomForestClassifiers and ExtraTreesClassifiers.\n",
      "  warn(\n",
      "/opt/conda/lib/python3.10/site-packages/sklearn/ensemble/_forest.py:424: FutureWarning: `max_features='auto'` has been deprecated in 1.1 and will be removed in 1.3. To keep the past behaviour, explicitly set `max_features='sqrt'` or remove this parameter as it is also the default value for RandomForestClassifiers and ExtraTreesClassifiers.\n",
      "  warn(\n",
      "/opt/conda/lib/python3.10/site-packages/sklearn/ensemble/_forest.py:424: FutureWarning: `max_features='auto'` has been deprecated in 1.1 and will be removed in 1.3. To keep the past behaviour, explicitly set `max_features='sqrt'` or remove this parameter as it is also the default value for RandomForestClassifiers and ExtraTreesClassifiers.\n",
      "  warn(\n",
      "/opt/conda/lib/python3.10/site-packages/sklearn/ensemble/_forest.py:424: FutureWarning: `max_features='auto'` has been deprecated in 1.1 and will be removed in 1.3. To keep the past behaviour, explicitly set `max_features='sqrt'` or remove this parameter as it is also the default value for RandomForestClassifiers and ExtraTreesClassifiers.\n",
      "  warn(\n",
      "/opt/conda/lib/python3.10/site-packages/sklearn/ensemble/_forest.py:424: FutureWarning: `max_features='auto'` has been deprecated in 1.1 and will be removed in 1.3. To keep the past behaviour, explicitly set `max_features='sqrt'` or remove this parameter as it is also the default value for RandomForestClassifiers and ExtraTreesClassifiers.\n",
      "  warn(\n",
      "/opt/conda/lib/python3.10/site-packages/sklearn/ensemble/_forest.py:424: FutureWarning: `max_features='auto'` has been deprecated in 1.1 and will be removed in 1.3. To keep the past behaviour, explicitly set `max_features='sqrt'` or remove this parameter as it is also the default value for RandomForestClassifiers and ExtraTreesClassifiers.\n",
      "  warn(\n",
      "/opt/conda/lib/python3.10/site-packages/sklearn/ensemble/_forest.py:424: FutureWarning: `max_features='auto'` has been deprecated in 1.1 and will be removed in 1.3. To keep the past behaviour, explicitly set `max_features='sqrt'` or remove this parameter as it is also the default value for RandomForestClassifiers and ExtraTreesClassifiers.\n",
      "  warn(\n",
      "/opt/conda/lib/python3.10/site-packages/sklearn/ensemble/_forest.py:424: FutureWarning: `max_features='auto'` has been deprecated in 1.1 and will be removed in 1.3. To keep the past behaviour, explicitly set `max_features='sqrt'` or remove this parameter as it is also the default value for RandomForestClassifiers and ExtraTreesClassifiers.\n",
      "  warn(\n",
      "/opt/conda/lib/python3.10/site-packages/sklearn/ensemble/_forest.py:424: FutureWarning: `max_features='auto'` has been deprecated in 1.1 and will be removed in 1.3. To keep the past behaviour, explicitly set `max_features='sqrt'` or remove this parameter as it is also the default value for RandomForestClassifiers and ExtraTreesClassifiers.\n",
      "  warn(\n",
      "/opt/conda/lib/python3.10/site-packages/sklearn/ensemble/_forest.py:424: FutureWarning: `max_features='auto'` has been deprecated in 1.1 and will be removed in 1.3. To keep the past behaviour, explicitly set `max_features='sqrt'` or remove this parameter as it is also the default value for RandomForestClassifiers and ExtraTreesClassifiers.\n",
      "  warn(\n",
      "/opt/conda/lib/python3.10/site-packages/sklearn/ensemble/_forest.py:424: FutureWarning: `max_features='auto'` has been deprecated in 1.1 and will be removed in 1.3. To keep the past behaviour, explicitly set `max_features='sqrt'` or remove this parameter as it is also the default value for RandomForestClassifiers and ExtraTreesClassifiers.\n",
      "  warn(\n",
      "/opt/conda/lib/python3.10/site-packages/sklearn/ensemble/_forest.py:424: FutureWarning: `max_features='auto'` has been deprecated in 1.1 and will be removed in 1.3. To keep the past behaviour, explicitly set `max_features='sqrt'` or remove this parameter as it is also the default value for RandomForestClassifiers and ExtraTreesClassifiers.\n",
      "  warn(\n",
      "/opt/conda/lib/python3.10/site-packages/sklearn/ensemble/_forest.py:424: FutureWarning: `max_features='auto'` has been deprecated in 1.1 and will be removed in 1.3. To keep the past behaviour, explicitly set `max_features='sqrt'` or remove this parameter as it is also the default value for RandomForestClassifiers and ExtraTreesClassifiers.\n",
      "  warn(\n",
      "/opt/conda/lib/python3.10/site-packages/sklearn/ensemble/_forest.py:424: FutureWarning: `max_features='auto'` has been deprecated in 1.1 and will be removed in 1.3. To keep the past behaviour, explicitly set `max_features='sqrt'` or remove this parameter as it is also the default value for RandomForestClassifiers and ExtraTreesClassifiers.\n",
      "  warn(\n",
      "/opt/conda/lib/python3.10/site-packages/sklearn/ensemble/_forest.py:424: FutureWarning: `max_features='auto'` has been deprecated in 1.1 and will be removed in 1.3. To keep the past behaviour, explicitly set `max_features='sqrt'` or remove this parameter as it is also the default value for RandomForestClassifiers and ExtraTreesClassifiers.\n",
      "  warn(\n",
      "/opt/conda/lib/python3.10/site-packages/sklearn/ensemble/_forest.py:424: FutureWarning: `max_features='auto'` has been deprecated in 1.1 and will be removed in 1.3. To keep the past behaviour, explicitly set `max_features='sqrt'` or remove this parameter as it is also the default value for RandomForestClassifiers and ExtraTreesClassifiers.\n",
      "  warn(\n",
      "/opt/conda/lib/python3.10/site-packages/sklearn/ensemble/_forest.py:424: FutureWarning: `max_features='auto'` has been deprecated in 1.1 and will be removed in 1.3. To keep the past behaviour, explicitly set `max_features='sqrt'` or remove this parameter as it is also the default value for RandomForestClassifiers and ExtraTreesClassifiers.\n",
      "  warn(\n",
      "/opt/conda/lib/python3.10/site-packages/sklearn/ensemble/_forest.py:424: FutureWarning: `max_features='auto'` has been deprecated in 1.1 and will be removed in 1.3. To keep the past behaviour, explicitly set `max_features='sqrt'` or remove this parameter as it is also the default value for RandomForestClassifiers and ExtraTreesClassifiers.\n",
      "  warn(\n",
      "/opt/conda/lib/python3.10/site-packages/sklearn/ensemble/_forest.py:424: FutureWarning: `max_features='auto'` has been deprecated in 1.1 and will be removed in 1.3. To keep the past behaviour, explicitly set `max_features='sqrt'` or remove this parameter as it is also the default value for RandomForestClassifiers and ExtraTreesClassifiers.\n",
      "  warn(\n",
      "/opt/conda/lib/python3.10/site-packages/sklearn/ensemble/_forest.py:424: FutureWarning: `max_features='auto'` has been deprecated in 1.1 and will be removed in 1.3. To keep the past behaviour, explicitly set `max_features='sqrt'` or remove this parameter as it is also the default value for RandomForestClassifiers and ExtraTreesClassifiers.\n",
      "  warn(\n",
      "/opt/conda/lib/python3.10/site-packages/sklearn/ensemble/_forest.py:424: FutureWarning: `max_features='auto'` has been deprecated in 1.1 and will be removed in 1.3. To keep the past behaviour, explicitly set `max_features='sqrt'` or remove this parameter as it is also the default value for RandomForestClassifiers and ExtraTreesClassifiers.\n",
      "  warn(\n",
      "/opt/conda/lib/python3.10/site-packages/sklearn/ensemble/_forest.py:424: FutureWarning: `max_features='auto'` has been deprecated in 1.1 and will be removed in 1.3. To keep the past behaviour, explicitly set `max_features='sqrt'` or remove this parameter as it is also the default value for RandomForestClassifiers and ExtraTreesClassifiers.\n",
      "  warn(\n",
      "/opt/conda/lib/python3.10/site-packages/sklearn/ensemble/_forest.py:424: FutureWarning: `max_features='auto'` has been deprecated in 1.1 and will be removed in 1.3. To keep the past behaviour, explicitly set `max_features='sqrt'` or remove this parameter as it is also the default value for RandomForestClassifiers and ExtraTreesClassifiers.\n",
      "  warn(\n",
      "/opt/conda/lib/python3.10/site-packages/sklearn/ensemble/_forest.py:424: FutureWarning: `max_features='auto'` has been deprecated in 1.1 and will be removed in 1.3. To keep the past behaviour, explicitly set `max_features='sqrt'` or remove this parameter as it is also the default value for RandomForestClassifiers and ExtraTreesClassifiers.\n",
      "  warn(\n",
      "/opt/conda/lib/python3.10/site-packages/sklearn/ensemble/_forest.py:424: FutureWarning: `max_features='auto'` has been deprecated in 1.1 and will be removed in 1.3. To keep the past behaviour, explicitly set `max_features='sqrt'` or remove this parameter as it is also the default value for RandomForestClassifiers and ExtraTreesClassifiers.\n",
      "  warn(\n"
     ]
    },
    {
     "name": "stdout",
     "output_type": "stream",
     "text": [
      "---------Best param for RandomForestClassifier-----------\n",
      "{'n_estimators': 200, 'min_samples_split': 2, 'max_features': 8, 'max_depth': None}\n"
     ]
    }
   ],
   "source": [
    "model_param ={}\n",
    "for name ,model,param in randomcv_models:\n",
    "    random = RandomizedSearchCV(estimator = model,\n",
    "                                param_distributions = param,\n",
    "                                n_iter = 100,cv=3,\n",
    "                                verbose=2,\n",
    "                                n_jobs=-1)\n",
    "    random.fit(x_train,y_train)\n",
    "    model_param[name]=random.best_params_\n",
    "\n",
    "for model_name in model_param:\n",
    "    print(f\"---------Best param for {model_name}-----------\")\n",
    "    print(model_param[model_name])"
   ]
  },
  {
   "cell_type": "code",
   "execution_count": 26,
   "id": "6045b96f",
   "metadata": {
    "execution": {
     "iopub.execute_input": "2023-07-27T19:51:13.004933Z",
     "iopub.status.busy": "2023-07-27T19:51:13.003418Z",
     "iopub.status.idle": "2023-07-27T19:51:13.011404Z",
     "shell.execute_reply": "2023-07-27T19:51:13.010033Z"
    },
    "papermill": {
     "duration": 0.028974,
     "end_time": "2023-07-27T19:51:13.013679",
     "exception": false,
     "start_time": "2023-07-27T19:51:12.984705",
     "status": "completed"
    },
    "tags": []
   },
   "outputs": [],
   "source": [
    "# {'n_estimators': 100, 'min_samples_split': 2, 'max_features': 8, 'max_depth': 15}\n",
    "model = RandomForestClassifier(n_estimators= 100, min_samples_split= 2, max_features= 8, max_depth=15)"
   ]
  },
  {
   "cell_type": "code",
   "execution_count": 27,
   "id": "e13807b8",
   "metadata": {
    "execution": {
     "iopub.execute_input": "2023-07-27T19:51:13.047429Z",
     "iopub.status.busy": "2023-07-27T19:51:13.047080Z",
     "iopub.status.idle": "2023-07-27T19:51:13.693493Z",
     "shell.execute_reply": "2023-07-27T19:51:13.692573Z"
    },
    "papermill": {
     "duration": 0.665658,
     "end_time": "2023-07-27T19:51:13.695480",
     "exception": false,
     "start_time": "2023-07-27T19:51:13.029822",
     "status": "completed"
    },
    "tags": []
   },
   "outputs": [
    {
     "data": {
      "text/html": [
       "<style>#sk-container-id-1 {color: black;background-color: white;}#sk-container-id-1 pre{padding: 0;}#sk-container-id-1 div.sk-toggleable {background-color: white;}#sk-container-id-1 label.sk-toggleable__label {cursor: pointer;display: block;width: 100%;margin-bottom: 0;padding: 0.3em;box-sizing: border-box;text-align: center;}#sk-container-id-1 label.sk-toggleable__label-arrow:before {content: \"▸\";float: left;margin-right: 0.25em;color: #696969;}#sk-container-id-1 label.sk-toggleable__label-arrow:hover:before {color: black;}#sk-container-id-1 div.sk-estimator:hover label.sk-toggleable__label-arrow:before {color: black;}#sk-container-id-1 div.sk-toggleable__content {max-height: 0;max-width: 0;overflow: hidden;text-align: left;background-color: #f0f8ff;}#sk-container-id-1 div.sk-toggleable__content pre {margin: 0.2em;color: black;border-radius: 0.25em;background-color: #f0f8ff;}#sk-container-id-1 input.sk-toggleable__control:checked~div.sk-toggleable__content {max-height: 200px;max-width: 100%;overflow: auto;}#sk-container-id-1 input.sk-toggleable__control:checked~label.sk-toggleable__label-arrow:before {content: \"▾\";}#sk-container-id-1 div.sk-estimator input.sk-toggleable__control:checked~label.sk-toggleable__label {background-color: #d4ebff;}#sk-container-id-1 div.sk-label input.sk-toggleable__control:checked~label.sk-toggleable__label {background-color: #d4ebff;}#sk-container-id-1 input.sk-hidden--visually {border: 0;clip: rect(1px 1px 1px 1px);clip: rect(1px, 1px, 1px, 1px);height: 1px;margin: -1px;overflow: hidden;padding: 0;position: absolute;width: 1px;}#sk-container-id-1 div.sk-estimator {font-family: monospace;background-color: #f0f8ff;border: 1px dotted black;border-radius: 0.25em;box-sizing: border-box;margin-bottom: 0.5em;}#sk-container-id-1 div.sk-estimator:hover {background-color: #d4ebff;}#sk-container-id-1 div.sk-parallel-item::after {content: \"\";width: 100%;border-bottom: 1px solid gray;flex-grow: 1;}#sk-container-id-1 div.sk-label:hover label.sk-toggleable__label {background-color: #d4ebff;}#sk-container-id-1 div.sk-serial::before {content: \"\";position: absolute;border-left: 1px solid gray;box-sizing: border-box;top: 0;bottom: 0;left: 50%;z-index: 0;}#sk-container-id-1 div.sk-serial {display: flex;flex-direction: column;align-items: center;background-color: white;padding-right: 0.2em;padding-left: 0.2em;position: relative;}#sk-container-id-1 div.sk-item {position: relative;z-index: 1;}#sk-container-id-1 div.sk-parallel {display: flex;align-items: stretch;justify-content: center;background-color: white;position: relative;}#sk-container-id-1 div.sk-item::before, #sk-container-id-1 div.sk-parallel-item::before {content: \"\";position: absolute;border-left: 1px solid gray;box-sizing: border-box;top: 0;bottom: 0;left: 50%;z-index: -1;}#sk-container-id-1 div.sk-parallel-item {display: flex;flex-direction: column;z-index: 1;position: relative;background-color: white;}#sk-container-id-1 div.sk-parallel-item:first-child::after {align-self: flex-end;width: 50%;}#sk-container-id-1 div.sk-parallel-item:last-child::after {align-self: flex-start;width: 50%;}#sk-container-id-1 div.sk-parallel-item:only-child::after {width: 0;}#sk-container-id-1 div.sk-dashed-wrapped {border: 1px dashed gray;margin: 0 0.4em 0.5em 0.4em;box-sizing: border-box;padding-bottom: 0.4em;background-color: white;}#sk-container-id-1 div.sk-label label {font-family: monospace;font-weight: bold;display: inline-block;line-height: 1.2em;}#sk-container-id-1 div.sk-label-container {text-align: center;}#sk-container-id-1 div.sk-container {/* jupyter's `normalize.less` sets `[hidden] { display: none; }` but bootstrap.min.css set `[hidden] { display: none !important; }` so we also need the `!important` here to be able to override the default hidden behavior on the sphinx rendered scikit-learn.org. See: https://github.com/scikit-learn/scikit-learn/issues/21755 */display: inline-block !important;position: relative;}#sk-container-id-1 div.sk-text-repr-fallback {display: none;}</style><div id=\"sk-container-id-1\" class=\"sk-top-container\"><div class=\"sk-text-repr-fallback\"><pre>RandomForestClassifier(max_depth=15, max_features=8)</pre><b>In a Jupyter environment, please rerun this cell to show the HTML representation or trust the notebook. <br />On GitHub, the HTML representation is unable to render, please try loading this page with nbviewer.org.</b></div><div class=\"sk-container\" hidden><div class=\"sk-item\"><div class=\"sk-estimator sk-toggleable\"><input class=\"sk-toggleable__control sk-hidden--visually\" id=\"sk-estimator-id-1\" type=\"checkbox\" checked><label for=\"sk-estimator-id-1\" class=\"sk-toggleable__label sk-toggleable__label-arrow\">RandomForestClassifier</label><div class=\"sk-toggleable__content\"><pre>RandomForestClassifier(max_depth=15, max_features=8)</pre></div></div></div></div></div>"
      ],
      "text/plain": [
       "RandomForestClassifier(max_depth=15, max_features=8)"
      ]
     },
     "execution_count": 27,
     "metadata": {},
     "output_type": "execute_result"
    }
   ],
   "source": [
    "model.fit(x_train,y_train)"
   ]
  },
  {
   "cell_type": "code",
   "execution_count": 28,
   "id": "3ce5da53",
   "metadata": {
    "execution": {
     "iopub.execute_input": "2023-07-27T19:51:13.730389Z",
     "iopub.status.busy": "2023-07-27T19:51:13.729378Z",
     "iopub.status.idle": "2023-07-27T19:51:13.751166Z",
     "shell.execute_reply": "2023-07-27T19:51:13.750345Z"
    },
    "papermill": {
     "duration": 0.041328,
     "end_time": "2023-07-27T19:51:13.753406",
     "exception": false,
     "start_time": "2023-07-27T19:51:13.712078",
     "status": "completed"
    },
    "tags": []
   },
   "outputs": [],
   "source": [
    "pred = model.predict(x_test)"
   ]
  },
  {
   "cell_type": "code",
   "execution_count": 29,
   "id": "7c054fcf",
   "metadata": {
    "execution": {
     "iopub.execute_input": "2023-07-27T19:51:13.788357Z",
     "iopub.status.busy": "2023-07-27T19:51:13.787662Z",
     "iopub.status.idle": "2023-07-27T19:51:13.794934Z",
     "shell.execute_reply": "2023-07-27T19:51:13.794162Z"
    },
    "papermill": {
     "duration": 0.026987,
     "end_time": "2023-07-27T19:51:13.796784",
     "exception": false,
     "start_time": "2023-07-27T19:51:13.769797",
     "status": "completed"
    },
    "tags": []
   },
   "outputs": [
    {
     "data": {
      "text/plain": [
       "0.9781591263650546"
      ]
     },
     "execution_count": 29,
     "metadata": {},
     "output_type": "execute_result"
    }
   ],
   "source": [
    "accuracy_score(y_test,pred)"
   ]
  },
  {
   "attachments": {},
   "cell_type": "markdown",
   "id": "f91a20b5",
   "metadata": {
    "papermill": {
     "duration": 0.017154,
     "end_time": "2023-07-27T19:51:13.830283",
     "exception": false,
     "start_time": "2023-07-27T19:51:13.813129",
     "status": "completed"
    },
    "tags": []
   },
   "source": [
    "## Before hyper parameter tuning accuracy is : 97.65990639625585\n",
    "## After  hyper parameter tuning accuracy is : 98.2839313572543"
   ]
  },
  {
   "attachments": {},
   "cell_type": "markdown",
   "id": "958f5b8a",
   "metadata": {
    "papermill": {
     "duration": 0.016379,
     "end_time": "2023-07-27T19:51:13.864178",
     "exception": false,
     "start_time": "2023-07-27T19:51:13.847799",
     "status": "completed"
    },
    "tags": []
   },
   "source": [
    "# Saving the Model"
   ]
  },
  {
   "cell_type": "code",
   "execution_count": 30,
   "id": "01fc5b7b",
   "metadata": {
    "execution": {
     "iopub.execute_input": "2023-07-27T19:51:13.901506Z",
     "iopub.status.busy": "2023-07-27T19:51:13.900792Z",
     "iopub.status.idle": "2023-07-27T19:51:13.959402Z",
     "shell.execute_reply": "2023-07-27T19:51:13.958206Z"
    },
    "papermill": {
     "duration": 0.080631,
     "end_time": "2023-07-27T19:51:13.961697",
     "exception": false,
     "start_time": "2023-07-27T19:51:13.881066",
     "status": "completed"
    },
    "tags": []
   },
   "outputs": [
    {
     "name": "stdout",
     "output_type": "stream",
     "text": [
      "model saved!!!\n"
     ]
    }
   ],
   "source": [
    "joblib.dump(model,'rf_model.joblib')\n",
    "print(\"model saved!!!\")"
   ]
  },
  {
   "cell_type": "code",
   "execution_count": null,
   "id": "f34fb4d4",
   "metadata": {
    "papermill": {
     "duration": 0.016266,
     "end_time": "2023-07-27T19:51:14.028324",
     "exception": false,
     "start_time": "2023-07-27T19:51:14.012058",
     "status": "completed"
    },
    "tags": []
   },
   "outputs": [],
   "source": []
  }
 ],
 "metadata": {
  "kernelspec": {
   "display_name": "Python 3",
   "language": "python",
   "name": "python3"
  },
  "language_info": {
   "codemirror_mode": {
    "name": "ipython",
    "version": 3
   },
   "file_extension": ".py",
   "mimetype": "text/x-python",
   "name": "python",
   "nbconvert_exporter": "python",
   "pygments_lexer": "ipython3",
   "version": "3.10.12"
  },
  "papermill": {
   "default_parameters": {},
   "duration": 224.008654,
   "end_time": "2023-07-27T19:51:16.665089",
   "environment_variables": {},
   "exception": null,
   "input_path": "__notebook__.ipynb",
   "output_path": "__notebook__.ipynb",
   "parameters": {},
   "start_time": "2023-07-27T19:47:32.656435",
   "version": "2.4.0"
  }
 },
 "nbformat": 4,
 "nbformat_minor": 5
}
